{
 "cells": [
  {
   "cell_type": "code",
   "execution_count": 1,
   "id": "73aa58d9-ea57-4432-a952-cd624d491030",
   "metadata": {},
   "outputs": [],
   "source": [
    "import pandas as pd"
   ]
  },
  {
   "cell_type": "code",
   "execution_count": 3,
   "id": "b7722f23-a1c9-4649-8efc-5df624bed5fe",
   "metadata": {},
   "outputs": [],
   "source": [
    "#load data\n",
    "df = pd.read_csv(\"/workspaces/mini_project_2/data/uk_pisa_2022.csv\")"
   ]
  },
  {
   "cell_type": "code",
   "execution_count": 4,
   "id": "836097f3-42b5-454e-ad0e-6461fcd4572a",
   "metadata": {},
   "outputs": [],
   "source": [
    "# Achievement (target and optional outputs)\n",
    "achievement_vars = [f'PV{i}MATH' for i in range(1, 11)] + \\\n",
    "                   [f'PV{i}READ' for i in range(1, 11)] + \\\n",
    "                   [f'PV{i}SCIE' for i in range(1, 11)]\n",
    "\n",
    "# Individual\n",
    "individual_vars = [\n",
    "    'ST004D01T', 'ST016Q01NA', 'ST313Q01JA', 'ST309Q02JA',\n",
    "    'ST301Q01JA', 'ST305Q01JA'\n",
    "]\n",
    "\n",
    "# Academic\n",
    "academic_vars = [\n",
    "    'ST296Q01JA', 'ST293Q03JA', 'ST292Q01JA', 'ST327Q06JA', 'ST355Q05JA'\n",
    "]\n",
    "\n",
    "# Family\n",
    "family_vars = [\n",
    "    'ESCS', 'ST230Q01JA', 'ST258Q01JA', 'ST259Q01JA', 'ST300Q01JA',\n",
    "    'ST300Q02JA', 'ST250Q02JA', 'ST255Q01JA'\n",
    "]\n",
    "\n",
    "# School\n",
    "school_vars = [\n",
    "    'ST034Q03TA', 'ST267Q01JA', 'ST267Q05JA', 'ST273Q01JA', 'ST285Q04JA',\n",
    "    'ST270Q02JA', 'ST038Q05NA', 'ST265Q03JA', 'ST272Q01JA'\n",
    "]\n",
    "\n",
    "# Peer/Social\n",
    "peer_vars = [\n",
    "    'ST034Q02TA', 'ST038Q03NA', 'ST038Q04NA', 'ST315Q04JA', 'ST315Q06JA'\n",
    "]\n",
    "\n",
    "# Context\n",
    "context_vars = ['REGION']\n",
    "\n",
    "# All selected variables\n",
    "selected_vars = achievement_vars + individual_vars + academic_vars + \\\n",
    "                family_vars + school_vars + peer_vars + context_vars\n"
   ]
  },
  {
   "cell_type": "code",
   "execution_count": 5,
   "id": "eed51914-7d25-46ca-a4de-1f705fb66da5",
   "metadata": {},
   "outputs": [
    {
     "name": "stdout",
     "output_type": "stream",
     "text": [
      "['ESCS', 'ST230Q01JA', 'ST258Q01JA', 'ST259Q01JA', 'ST300Q01JA', 'ST300Q02JA', 'ST250Q02JA', 'ST255Q01JA']\n"
     ]
    }
   ],
   "source": [
    "print(family_vars)"
   ]
  },
  {
   "cell_type": "code",
   "execution_count": 6,
   "id": "1f4859da-d23d-4eee-8912-3a946886d366",
   "metadata": {},
   "outputs": [
    {
     "name": "stdout",
     "output_type": "stream",
     "text": [
      "(12972, 64)\n"
     ]
    }
   ],
   "source": [
    "df_selected = df[selected_vars].copy()\n",
    "print(df_selected.shape)"
   ]
  },
  {
   "cell_type": "code",
   "execution_count": 8,
   "id": "2b470379-59cc-49db-a3c7-c7bc26bd9778",
   "metadata": {},
   "outputs": [],
   "source": [
    "# Save to the correct directory\n",
    "df_selected.to_csv('/workspaces/mini_project_2/data/pisa_2022_uk_selected.csv', index=False)"
   ]
  },
  {
   "cell_type": "code",
   "execution_count": null,
   "id": "ff51d55f-825a-4192-9cc2-8661bbf1c160",
   "metadata": {},
   "outputs": [],
   "source": []
  }
 ],
 "metadata": {
  "kernelspec": {
   "display_name": "Python 3 (ipykernel)",
   "language": "python",
   "name": "python3"
  },
  "language_info": {
   "codemirror_mode": {
    "name": "ipython",
    "version": 3
   },
   "file_extension": ".py",
   "mimetype": "text/x-python",
   "name": "python",
   "nbconvert_exporter": "python",
   "pygments_lexer": "ipython3",
   "version": "3.12.1"
  }
 },
 "nbformat": 4,
 "nbformat_minor": 5
}
