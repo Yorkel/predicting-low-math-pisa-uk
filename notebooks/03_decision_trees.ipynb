{
 "cells": [
  {
   "cell_type": "code",
   "execution_count": 1,
   "id": "076cd960-6e36-4d10-a998-9ba247d0f78a",
   "metadata": {},
   "outputs": [],
   "source": [
    "import pandas as pd"
   ]
  },
  {
   "cell_type": "code",
   "execution_count": 2,
   "id": "6c8dc936-318a-4897-94f9-38a51d4826b8",
   "metadata": {},
   "outputs": [],
   "source": [
    "train_df = pd.read_csv(\"/workspaces/mini_project_2/data/processed/train.csv\")\n",
    "val_df   = pd.read_csv(\"/workspaces/mini_project_2/data/processed/val.csv\")\n",
    "test_df  = pd.read_csv(\"/workspaces/mini_project_2/data/processed/test.csv\")"
   ]
  },
  {
   "cell_type": "code",
   "execution_count": 26,
   "id": "2f744646-7eb0-441d-a60a-35d72f5da15f",
   "metadata": {},
   "outputs": [],
   "source": [
    "X_train = train_df.drop(columns=[\"target\"])\n",
    "y_train = train_df[\"target\"]\n",
    "\n",
    "X_val = val_df.drop(columns=[\"target\"])\n",
    "y_val = val_df[\"target\"]\n",
    "\n",
    "X_test = test_df.drop(columns=[\"target\"])\n",
    "y_test = test_df[\"target\"]"
   ]
  },
  {
   "cell_type": "code",
   "execution_count": null,
   "id": "9a95b8fb-304c-4555-a802-090a469b4d58",
   "metadata": {},
   "outputs": [],
   "source": []
  }
 ],
 "metadata": {
  "kernelspec": {
   "display_name": "Python 3 (ipykernel)",
   "language": "python",
   "name": "python3"
  },
  "language_info": {
   "codemirror_mode": {
    "name": "ipython",
    "version": 3
   },
   "file_extension": ".py",
   "mimetype": "text/x-python",
   "name": "python",
   "nbconvert_exporter": "python",
   "pygments_lexer": "ipython3",
   "version": "3.12.1"
  }
 },
 "nbformat": 4,
 "nbformat_minor": 5
}
