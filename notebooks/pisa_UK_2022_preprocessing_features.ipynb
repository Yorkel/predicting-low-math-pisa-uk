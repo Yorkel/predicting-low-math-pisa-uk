{
 "cells": [
  {
   "cell_type": "code",
   "execution_count": 9,
   "id": "5277f5b2-7a50-4723-a529-a6c56b2655ae",
   "metadata": {},
   "outputs": [],
   "source": [
    "import pandas as pd"
   ]
  },
  {
   "cell_type": "code",
   "execution_count": 10,
   "id": "13682339-974c-4f6c-a79d-cb32fa7a0ef5",
   "metadata": {},
   "outputs": [],
   "source": [
    "df = pd.read_csv('/workspaces/mini_project_2/data/uk_pisa_2022.csv')"
   ]
  },
  {
   "cell_type": "code",
   "execution_count": 11,
   "id": "2a950df9-5da7-40c5-a2cd-06ffe682284a",
   "metadata": {},
   "outputs": [
    {
     "data": {
      "text/plain": [
       "(12972, 1278)"
      ]
     },
     "execution_count": 11,
     "metadata": {},
     "output_type": "execute_result"
    }
   ],
   "source": [
    "df.shape"
   ]
  },
  {
   "cell_type": "code",
   "execution_count": 12,
   "id": "eac52bbf-352d-4e06-bced-135c68461a9d",
   "metadata": {},
   "outputs": [
    {
     "data": {
      "text/plain": [
       "Index(['CNT', 'CNTRYID', 'CNTSCHID', 'CNTSTUID', 'CYC', 'NatCen', 'STRATUM',\n",
       "       'SUBNATIO', 'REGION', 'OECD',\n",
       "       ...\n",
       "       'PV3MPRE', 'PV4MPRE', 'PV5MPRE', 'PV6MPRE', 'PV7MPRE', 'PV8MPRE',\n",
       "       'PV9MPRE', 'PV10MPRE', 'SENWT', 'VER_DAT'],\n",
       "      dtype='object', length=1278)"
      ]
     },
     "execution_count": 12,
     "metadata": {},
     "output_type": "execute_result"
    }
   ],
   "source": [
    "df.columns"
   ]
  },
  {
   "cell_type": "code",
   "execution_count": 14,
   "id": "03d4626f-ebfd-44b9-a4fb-ae423f0390fd",
   "metadata": {},
   "outputs": [
    {
     "data": {
      "text/plain": [
       "<bound method IndexOpsMixin.value_counts of 0          4.77923\n",
       "1          8.23968\n",
       "2        136.31080\n",
       "3         84.42297\n",
       "4        110.62140\n",
       "           ...    \n",
       "12967     14.72061\n",
       "12968     15.33406\n",
       "12969     20.97463\n",
       "12970     16.30511\n",
       "12971     15.15709\n",
       "Name: W_FSTUWT, Length: 12972, dtype: float64>"
      ]
     },
     "execution_count": 14,
     "metadata": {},
     "output_type": "execute_result"
    }
   ],
   "source": [
    "df[\"W_FSTUWT\"].value_counts"
   ]
  },
  {
   "cell_type": "code",
   "execution_count": 17,
   "id": "2e87cfa1-60b0-4304-b16f-7c737462f6d8",
   "metadata": {},
   "outputs": [
    {
     "data": {
      "text/plain": [
       "<bound method IndexOpsMixin.value_counts of 0       NaN\n",
       "1       NaN\n",
       "2       NaN\n",
       "3       NaN\n",
       "4       NaN\n",
       "         ..\n",
       "12967   NaN\n",
       "12968   NaN\n",
       "12969   NaN\n",
       "12970   NaN\n",
       "12971   NaN\n",
       "Name: BODYIMA, Length: 12972, dtype: float64>"
      ]
     },
     "execution_count": 17,
     "metadata": {},
     "output_type": "execute_result"
    }
   ],
   "source": [
    "df[\"BODYIMA\"].value_counts"
   ]
  },
  {
   "cell_type": "code",
   "execution_count": 5,
   "id": "169ffbad-ed1c-4548-87db-6bdb7b9eb49f",
   "metadata": {},
   "outputs": [],
   "source": [
    "# Select relevant variables\n",
    "df = df[['CNTSTUID', 'CNTSCHID','PV1MATH', 'PV1READ', 'PV1SCIE', 'ESCS', 'ST004D01T', 'IMMIG', 'REGION']]\n",
    "df = df.dropna()"
   ]
  },
  {
   "cell_type": "code",
   "execution_count": 5,
   "id": "59477ca3-eee4-4cbc-8304-840939a7f23c",
   "metadata": {},
   "outputs": [],
   "source": [
    "# Map region codes to region names\n",
    "region_map = {\n",
    "    82611.0: 'England',\n",
    "    82612.0: 'Northern Ireland',\n",
    "    82613.0: 'Wales',\n",
    "    82620.0: 'Scotland'\n",
    "}\n",
    "df['Region_Name'] = df['REGION'].map(region_map)\n"
   ]
  },
  {
   "cell_type": "code",
   "execution_count": 6,
   "id": "e9cde8de-6c44-4bc6-9ff1-5a6945f68f84",
   "metadata": {},
   "outputs": [],
   "source": [
    "# Map gender codes to labels\n",
    "gender_map = {\n",
    "    1: 'Male',\n",
    "    2: 'Female'\n",
    "}\n",
    "df['Gender_Label'] = df['ST004D01T'].map(gender_map)"
   ]
  },
  {
   "cell_type": "code",
   "execution_count": 7,
   "id": "668b03a6-7b26-4c9e-9ffd-196ce67cabd1",
   "metadata": {},
   "outputs": [],
   "source": [
    "# Map immigrant status codes to labels\n",
    "immig_map = {\n",
    "    1: 'Native',\n",
    "    2: 'Second-Generation Immigrant',\n",
    "    3: 'First-Generation Immigrant'\n",
    "}\n",
    "df['Immigrant_Status'] = df['IMMIG'].map(immig_map)"
   ]
  },
  {
   "cell_type": "code",
   "execution_count": 8,
   "id": "57964278-6bf9-4c95-825c-13cd8d887f2a",
   "metadata": {},
   "outputs": [],
   "source": [
    "# Add SES group using quartiles\n",
    "df['SES_Group'] = pd.qcut(df['ESCS'], q=4, labels=['Low', 'Lower-Mid', 'Upper-Mid', 'High'])"
   ]
  },
  {
   "cell_type": "code",
   "execution_count": 9,
   "id": "70e08ec4-7a11-4aca-85fe-f7e3c3660890",
   "metadata": {},
   "outputs": [],
   "source": [
    "# Compute average academic score\n",
    "df['avg_score'] = df[['PV1MATH', 'PV1READ', 'PV1SCIE']].mean(axis=1)"
   ]
  },
  {
   "cell_type": "code",
   "execution_count": 10,
   "id": "80a4c4e7-07b3-4646-b126-171b5e20a823",
   "metadata": {},
   "outputs": [],
   "source": [
    "# Calculate medians for performance thresholding\n",
    "median_math = df['PV1MATH'].median()\n",
    "median_read = df['PV1READ'].median()\n",
    "median_scie = df['PV1SCIE'].median()\n",
    "median_score = df['avg_score'].median()"
   ]
  },
  {
   "cell_type": "code",
   "execution_count": 11,
   "id": "e1506995-c23c-4d11-b2f5-2698ad2ce5b9",
   "metadata": {},
   "outputs": [],
   "source": [
    "# Define At-Risk: underperforming in all three subjects\n",
    "df['At_Risk'] = (\n",
    "    (df['PV1MATH'] < median_math) &\n",
    "    (df['PV1READ'] < median_read) &\n",
    "    (df['PV1SCIE'] < median_scie)\n",
    ").astype(int)"
   ]
  },
  {
   "cell_type": "code",
   "execution_count": 12,
   "id": "90d6b947-79d8-4a5b-a771-679b0ca665ce",
   "metadata": {},
   "outputs": [],
   "source": [
    "# Define binary label for modeling: low SES + avg_score > median (this is our target variable)\n",
    "df['is_resilient'] = ((df['SES_Group'] == 'Low') & (df['avg_score'] > median_score)).astype(int)"
   ]
  },
  {
   "cell_type": "code",
   "execution_count": 13,
   "id": "33a123aa-532f-4704-a2c1-223c7f02fc9a",
   "metadata": {},
   "outputs": [],
   "source": [
    "# For summary statistics only: Resilient students with high performance in ALL subjects\n",
    "df['Resilient_All_Subjects'] = (\n",
    "    (df['SES_Group'] == 'Low') &\n",
    "    (df['PV1MATH'] > median_math) &\n",
    "    (df['PV1READ'] > median_read) &\n",
    "    (df['PV1SCIE'] > median_scie)\n",
    ").astype(int)"
   ]
  },
  {
   "cell_type": "code",
   "execution_count": 14,
   "id": "b1701b98-63a3-4af7-a89f-6ac95d673532",
   "metadata": {},
   "outputs": [],
   "source": [
    "# Create regional summary table for descriptive stats\n",
    "df_compare = df[['CNTSTUID', 'SES_Group', 'Region_Name', 'At_Risk', 'Resilient_All_Subjects']].copy()\n",
    "summary = df_compare.groupby(['SES_Group', 'Region_Name'], observed=True).agg(\n",
    "    At_Risk_Students=('At_Risk', 'sum'),\n",
    "    Resilient_Students=('Resilient_All_Subjects', 'sum'),\n",
    "    Total_Students=('CNTSTUID', 'count')\n",
    ").reset_index()"
   ]
  },
  {
   "cell_type": "code",
   "execution_count": 15,
   "id": "878ba33b-afa4-4e31-8676-0225e32f132f",
   "metadata": {},
   "outputs": [],
   "source": [
    "# Calculate percentages\n",
    "summary['At_Risk_%'] = (summary['At_Risk_Students'] / summary['Total_Students'] * 100).round(1)\n",
    "summary['Resilient_%'] = (summary['Resilient_Students'] / summary['Total_Students'] * 100).round(1)"
   ]
  },
  {
   "cell_type": "code",
   "execution_count": 16,
   "id": "af429109-7c3e-4c5a-8342-4c46817a7775",
   "metadata": {},
   "outputs": [
    {
     "name": "stdout",
     "output_type": "stream",
     "text": [
      "Summary Statistics by SES Group and Region:\n",
      "    SES_Group       Region_Name  At_Risk_Students  Resilient_Students  \\\n",
      "0         Low           England               353                 212   \n",
      "1         Low  Northern Ireland               263                  98   \n",
      "2         Low          Scotland               441                 145   \n",
      "3         Low             Wales               321                  93   \n",
      "4   Lower-Mid           England               301                   0   \n",
      "5   Lower-Mid  Northern Ireland               205                   0   \n",
      "6   Lower-Mid          Scotland               316                   0   \n",
      "7   Lower-Mid             Wales               285                   0   \n",
      "8   Upper-Mid           England               278                   0   \n",
      "9   Upper-Mid  Northern Ireland               151                   0   \n",
      "10  Upper-Mid          Scotland               212                   0   \n",
      "11  Upper-Mid             Wales               233                   0   \n",
      "12       High           England               127                   0   \n",
      "13       High  Northern Ireland               111                   0   \n",
      "14       High          Scotland                96                   0   \n",
      "15       High             Wales               116                   0   \n",
      "\n",
      "    Total_Students  At_Risk_%  Resilient_%  \n",
      "0              782       45.1         27.1  \n",
      "1              495       53.1         19.8  \n",
      "2              842       52.4         17.2  \n",
      "3              553       58.0         16.8  \n",
      "4              838       35.9          0.0  \n",
      "5              502       40.8          0.0  \n",
      "6              781       40.5          0.0  \n",
      "7              550       51.8          0.0  \n",
      "8              956       29.1          0.0  \n",
      "9              515       29.3          0.0  \n",
      "10             681       31.1          0.0  \n",
      "11             519       44.9          0.0  \n",
      "12             992       12.8          0.0  \n",
      "13             589       18.8          0.0  \n",
      "14             627       15.3          0.0  \n",
      "15             463       25.1          0.0  \n"
     ]
    }
   ],
   "source": [
    "# Display the summary table\n",
    "print(\"Summary Statistics by SES Group and Region:\")\n",
    "print(summary)"
   ]
  },
  {
   "cell_type": "code",
   "execution_count": 17,
   "id": "e36705df-5837-4ab5-9b98-6c8ccba327c7",
   "metadata": {},
   "outputs": [
    {
     "name": "stdout",
     "output_type": "stream",
     "text": [
      "\n",
      "Target Variable Info:\n",
      "Total low-SES students: 2672\n",
      "Resilient students (low-SES + above median avg score): 885\n",
      "Resilience rate: 33.1%\n"
     ]
    }
   ],
   "source": [
    "# Display basic info about the target variable\n",
    "print(f\"\\nTarget Variable Info:\")\n",
    "print(f\"Total low-SES students: {len(df[df['SES_Group'] == 'Low'])}\")\n",
    "print(f\"Resilient students (low-SES + above median avg score): {df['is_resilient'].sum()}\")\n",
    "print(f\"Resilience rate: {(df['is_resilient'].sum() / len(df[df['SES_Group'] == 'Low']) * 100):.1f}%\")\n"
   ]
  },
  {
   "cell_type": "code",
   "execution_count": 18,
   "id": "94281a7f-07bc-44fc-a417-ffbd18680100",
   "metadata": {},
   "outputs": [],
   "source": [
    "# --- MODELING PREP ---"
   ]
  },
  {
   "cell_type": "code",
   "execution_count": 19,
   "id": "577dabf3-e99e-40f3-853c-e6dfc28384ea",
   "metadata": {},
   "outputs": [],
   "source": [
    "# Create a copy for modeling\n",
    "df_model = df.copy()"
   ]
  },
  {
   "cell_type": "code",
   "execution_count": 20,
   "id": "cd63f4d6-2380-4782-ba09-2e35b28f92e3",
   "metadata": {},
   "outputs": [],
   "source": [
    "# One-hot encode categorical variables using labeled columns (more interpretable)\n",
    "df_model = pd.get_dummies(df_model, columns=['Gender_Label', 'Immigrant_Status', 'Region_Name'], drop_first=True)"
   ]
  },
  {
   "cell_type": "code",
   "execution_count": 21,
   "id": "caf4452a-9c37-49d0-ae69-efc32ae6e8a1",
   "metadata": {},
   "outputs": [],
   "source": [
    "# Convert SES to numeric ordinal (preserve ordering)\n",
    "ses_numeric_map = {'Low': 0, 'Lower-Mid': 1, 'Upper-Mid': 2, 'High': 3}\n",
    "df_model['SES_Group_Numeric'] = df_model['SES_Group'].map(ses_numeric_map)"
   ]
  },
  {
   "cell_type": "code",
   "execution_count": 23,
   "id": "547e1217-e4d8-4736-abdf-41042a41e15d",
   "metadata": {},
   "outputs": [],
   "source": [
    "# Drop unnecessary columns for modeling (keep both At_Risk and is_resilient as targets)\n",
    "columns_to_drop = [\n",
    "    'CNTSTUID', 'CNTSCHID', 'REGION', 'ST004D01T', 'IMMIG',  # IDs and original numeric codes\n",
    "    'SES_Group',  # Keep numeric version instead\n",
    "    'Resilient_All_Subjects'  # Only used for summary stats\n",
    "]\n",
    "\n",
    "df_model = df_model.drop(columns=columns_to_drop)"
   ]
  },
  {
   "cell_type": "code",
   "execution_count": 24,
   "id": "50859b28-6325-4bd8-a9f9-7dfc8fccc772",
   "metadata": {},
   "outputs": [
    {
     "name": "stdout",
     "output_type": "stream",
     "text": [
      "\n",
      "Model-ready dataset shape: (10685, 14)\n",
      "Target variables: At_Risk, is_resilient\n",
      "Features for modeling: ['PV1MATH', 'PV1READ', 'PV1SCIE', 'ESCS', 'avg_score', 'Gender_Label_Male', 'Immigrant_Status_Native', 'Immigrant_Status_Second-Generation Immigrant', 'Region_Name_Northern Ireland', 'Region_Name_Scotland', 'Region_Name_Wales', 'SES_Group_Numeric']\n",
      "\n",
      "Target variable distributions:\n",
      "At-Risk students: 3809 (35.6%)\n",
      "Resilient students: 885 (8.3%)\n"
     ]
    }
   ],
   "source": [
    "# Display model-ready dataframe info\n",
    "print(f\"\\nModel-ready dataset shape: {df_model.shape}\")\n",
    "print(f\"Target variables: At_Risk, is_resilient\")\n",
    "print(f\"Features for modeling: {[col for col in df_model.columns if col not in ['At_Risk', 'is_resilient']]}\")\n",
    "print(f\"\\nTarget variable distributions:\")\n",
    "print(f\"At-Risk students: {df_model['At_Risk'].sum()} ({df_model['At_Risk'].mean()*100:.1f}%)\")\n",
    "print(f\"Resilient students: {df_model['is_resilient'].sum()} ({df_model['is_resilient'].mean()*100:.1f}%)\")"
   ]
  },
  {
   "cell_type": "code",
   "execution_count": 26,
   "id": "0d7f1b0e-bbed-41e6-93b0-cd4933e1f4a0",
   "metadata": {},
   "outputs": [
    {
     "name": "stdout",
     "output_type": "stream",
     "text": [
      "\n",
      "Dual Modeling Setup:\n",
      "Feature columns (12): ['PV1MATH', 'PV1READ', 'PV1SCIE', 'ESCS', 'avg_score', 'Gender_Label_Male', 'Immigrant_Status_Native', 'Immigrant_Status_Second-Generation Immigrant', 'Region_Name_Northern Ireland', 'Region_Name_Scotland', 'Region_Name_Wales', 'SES_Group_Numeric']\n"
     ]
    }
   ],
   "source": [
    "# --- PREPARE DATA FOR DUAL MODELING ---\n",
    "# Define feature columns (everything except target variables)\n",
    "feature_columns = [col for col in df_model.columns if col not in ['At_Risk', 'is_resilient']]\n",
    "X_features = df_model[feature_columns]\n",
    "\n",
    "print(f\"\\nDual Modeling Setup:\")\n",
    "print(f\"Feature columns ({len(feature_columns)}): {feature_columns}\")"
   ]
  },
  {
   "cell_type": "code",
   "execution_count": 27,
   "id": "757edb3c-a3b1-4662-8232-c931c9e600bc",
   "metadata": {},
   "outputs": [
    {
     "name": "stdout",
     "output_type": "stream",
     "text": [
      "\n",
      "At-Risk Model:\n",
      "  - Training samples: 10685\n",
      "  - At-risk cases: 3809 (35.6%)\n",
      "  - Class balance: {0: 6876, 1: 3809}\n"
     ]
    }
   ],
   "source": [
    "# MODEL 1: At-Risk Classification (All Students)\n",
    "X_risk = X_features.copy()\n",
    "y_risk = df_model['At_Risk']\n",
    "print(f\"\\nAt-Risk Model:\")\n",
    "print(f\"  - Training samples: {len(X_risk)}\")\n",
    "print(f\"  - At-risk cases: {y_risk.sum()} ({y_risk.mean()*100:.1f}%)\")\n",
    "print(f\"  - Class balance: {y_risk.value_counts().to_dict()}\")"
   ]
  },
  {
   "cell_type": "code",
   "execution_count": 28,
   "id": "748ffa55-6acf-4378-968a-9e8696e91da5",
   "metadata": {},
   "outputs": [
    {
     "name": "stdout",
     "output_type": "stream",
     "text": [
      "\n",
      "Resilience Model:\n",
      "  - Training samples: 2672 (low-SES only)\n",
      "  - Resilient cases: 885 (33.1%)\n",
      "  - Class balance: {0: 1787, 1: 885}\n",
      "\n",
      "First few rows of model dataset:\n",
      "   PV1MATH  PV1READ  PV1SCIE    ESCS   avg_score  At_Risk  is_resilient  \\\n",
      "0  699.809  650.831  660.872 -0.2845  670.504000        0             0   \n",
      "1  454.479  482.339  461.361 -0.6117  466.059667        1             0   \n",
      "2  566.143  519.729  619.621  1.2878  568.497667        0             0   \n",
      "3  371.820  319.932  286.866 -0.5213  326.206000        1             0   \n",
      "4  423.607  350.200  386.375  0.6203  386.727333        1             0   \n",
      "\n",
      "   Gender_Label_Male  Immigrant_Status_Native  \\\n",
      "0              False                     True   \n",
      "1              False                     True   \n",
      "2              False                     True   \n",
      "3               True                     True   \n",
      "4              False                    False   \n",
      "\n",
      "   Immigrant_Status_Second-Generation Immigrant  Region_Name_Northern Ireland  \\\n",
      "0                                         False                         False   \n",
      "1                                         False                          True   \n",
      "2                                         False                         False   \n",
      "3                                         False                         False   \n",
      "4                                         False                         False   \n",
      "\n",
      "   Region_Name_Scotland  Region_Name_Wales SES_Group_Numeric  \n",
      "0                 False               True                 1  \n",
      "1                 False              False                 0  \n",
      "2                 False              False                 3  \n",
      "3                 False              False                 1  \n",
      "4                 False              False                 2  \n"
     ]
    }
   ],
   "source": [
    "# MODEL 2: Resilience Classification (Low-SES Students Only)\n",
    "low_ses_mask = df_model['SES_Group_Numeric'] == 0\n",
    "X_resilience = X_features[low_ses_mask].copy()\n",
    "y_resilience = df_model[low_ses_mask]['is_resilient']\n",
    "print(f\"\\nResilience Model:\")\n",
    "print(f\"  - Training samples: {len(X_resilience)} (low-SES only)\")\n",
    "print(f\"  - Resilient cases: {y_resilience.sum()} ({y_resilience.mean()*100:.1f}%)\")\n",
    "print(f\"  - Class balance: {y_resilience.value_counts().to_dict()}\")\n",
    "\n",
    "print(f\"\\nFirst few rows of model dataset:\")\n",
    "print(df_model.head())"
   ]
  },
  {
   "cell_type": "code",
   "execution_count": 29,
   "id": "3595977f-3d48-447d-b57b-2144dc7178e8",
   "metadata": {},
   "outputs": [],
   "source": [
    "# Save datasets for both models\n",
    "df_model.to_csv('/workspaces/mini_project_2/data/uk_pisa_model_ready.csv', index=False)"
   ]
  },
  {
   "cell_type": "code",
   "execution_count": 31,
   "id": "e3f4ec6b-53be-4788-8f53-312740f8b3eb",
   "metadata": {},
   "outputs": [
    {
     "name": "stdout",
     "output_type": "stream",
     "text": [
      "\n",
      "Datasets saved:\n",
      "  - Full dataset: /workspaces/mini_project_2/data/uk_pisa_model_ready.csv\n",
      "  - Risk model data: /workspaces/mini_project_2/data/uk_pisa_risk_model.csv\n",
      "  - Resilience model data: /workspaces/mini_project_2/data/uk_pisa_resilience_model.csv\n",
      "\n",
      "🎯 Ready for Model Training!\n",
      "Next steps:\n",
      "  1. Train At-Risk models using X_risk, y_risk\n",
      "  2. Train Resilience models using X_resilience, y_resilience\n",
      "  3. Compare algorithm performance for each problem\n",
      "  4. Analyze feature importance differences\n"
     ]
    }
   ],
   "source": [
    "# Save separate datasets for convenience\n",
    "df_risk_model = pd.concat([X_risk, y_risk], axis=1)\n",
    "df_resilience_model = pd.concat([X_resilience, y_resilience], axis=1)\n",
    "\n",
    "df_risk_model.to_csv('/workspaces/mini_project_2/data/uk_pisa_risk_model.csv', index=False)\n",
    "df_resilience_model.to_csv('/workspaces/mini_project_2/data/uk_pisa_resilience_model.csv', index=False)\n",
    "\n",
    "print(f\"\\nDatasets saved:\")\n",
    "print(f\"  - Full dataset: /workspaces/mini_project_2/data/uk_pisa_model_ready.csv\")\n",
    "print(f\"  - Risk model data: /workspaces/mini_project_2/data/uk_pisa_risk_model.csv\")\n",
    "print(f\"  - Resilience model data: /workspaces/mini_project_2/data/uk_pisa_resilience_model.csv\")\n",
    "\n",
    "print(f\"\\n🎯 Ready for Model Training!\")\n",
    "print(f\"Next steps:\")\n",
    "print(f\"  1. Train At-Risk models using X_risk, y_risk\")\n",
    "print(f\"  2. Train Resilience models using X_resilience, y_resilience\") \n",
    "print(f\"  3. Compare algorithm performance for each problem\")\n",
    "print(f\"  4. Analyze feature importance differences\")"
   ]
  },
  {
   "cell_type": "code",
   "execution_count": null,
   "id": "687f0da9-651b-4a7d-9a0f-97262c7e7aee",
   "metadata": {},
   "outputs": [],
   "source": []
  }
 ],
 "metadata": {
  "kernelspec": {
   "display_name": "Python 3 (ipykernel)",
   "language": "python",
   "name": "python3"
  },
  "language_info": {
   "codemirror_mode": {
    "name": "ipython",
    "version": 3
   },
   "file_extension": ".py",
   "mimetype": "text/x-python",
   "name": "python",
   "nbconvert_exporter": "python",
   "pygments_lexer": "ipython3",
   "version": "3.12.1"
  }
 },
 "nbformat": 4,
 "nbformat_minor": 5
}
