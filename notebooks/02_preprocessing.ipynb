{
 "cells": [
  {
   "cell_type": "code",
   "execution_count": 1,
   "id": "bda13810-1246-4885-a858-904023bab0ad",
   "metadata": {},
   "outputs": [],
   "source": [
    "import pandas as pd"
   ]
  },
  {
   "cell_type": "code",
   "execution_count": 2,
   "id": "166dfabe-c530-4150-9e64-eea29a0fe5e1",
   "metadata": {},
   "outputs": [],
   "source": [
    "df = pd.read_csv(\"/workspaces/mini_project_2/data/pisa_2022_uk_selected.csv\")"
   ]
  },
  {
   "cell_type": "code",
   "execution_count": 3,
   "id": "24b4c372-7d6b-4d46-a06c-085b9e7a29f9",
   "metadata": {},
   "outputs": [
    {
     "data": {
      "text/html": [
       "<div>\n",
       "<style scoped>\n",
       "    .dataframe tbody tr th:only-of-type {\n",
       "        vertical-align: middle;\n",
       "    }\n",
       "\n",
       "    .dataframe tbody tr th {\n",
       "        vertical-align: top;\n",
       "    }\n",
       "\n",
       "    .dataframe thead th {\n",
       "        text-align: right;\n",
       "    }\n",
       "</style>\n",
       "<table border=\"1\" class=\"dataframe\">\n",
       "  <thead>\n",
       "    <tr style=\"text-align: right;\">\n",
       "      <th></th>\n",
       "      <th>PV1MATH</th>\n",
       "      <th>PV2MATH</th>\n",
       "      <th>PV3MATH</th>\n",
       "      <th>PV4MATH</th>\n",
       "      <th>PV5MATH</th>\n",
       "      <th>PV6MATH</th>\n",
       "      <th>PV7MATH</th>\n",
       "      <th>PV8MATH</th>\n",
       "      <th>PV9MATH</th>\n",
       "      <th>PV10MATH</th>\n",
       "      <th>...</th>\n",
       "      <th>ST270Q02JA</th>\n",
       "      <th>ST038Q05NA</th>\n",
       "      <th>ST265Q03JA</th>\n",
       "      <th>ST272Q01JA</th>\n",
       "      <th>ST034Q02TA</th>\n",
       "      <th>ST038Q03NA</th>\n",
       "      <th>ST038Q04NA</th>\n",
       "      <th>ST315Q04JA</th>\n",
       "      <th>ST315Q06JA</th>\n",
       "      <th>REGION</th>\n",
       "    </tr>\n",
       "  </thead>\n",
       "  <tbody>\n",
       "    <tr>\n",
       "      <th>0</th>\n",
       "      <td>699.809</td>\n",
       "      <td>598.369</td>\n",
       "      <td>593.952</td>\n",
       "      <td>603.361</td>\n",
       "      <td>666.143</td>\n",
       "      <td>635.207</td>\n",
       "      <td>608.553</td>\n",
       "      <td>583.002</td>\n",
       "      <td>654.755</td>\n",
       "      <td>600.505</td>\n",
       "      <td>...</td>\n",
       "      <td>4.0</td>\n",
       "      <td>1.0</td>\n",
       "      <td>1.0</td>\n",
       "      <td>4.0</td>\n",
       "      <td>NaN</td>\n",
       "      <td>1.0</td>\n",
       "      <td>1.0</td>\n",
       "      <td>NaN</td>\n",
       "      <td>NaN</td>\n",
       "      <td>82613.0</td>\n",
       "    </tr>\n",
       "    <tr>\n",
       "      <th>1</th>\n",
       "      <td>454.479</td>\n",
       "      <td>377.041</td>\n",
       "      <td>463.036</td>\n",
       "      <td>394.994</td>\n",
       "      <td>396.957</td>\n",
       "      <td>429.649</td>\n",
       "      <td>459.601</td>\n",
       "      <td>439.692</td>\n",
       "      <td>402.258</td>\n",
       "      <td>428.020</td>\n",
       "      <td>...</td>\n",
       "      <td>1.0</td>\n",
       "      <td>1.0</td>\n",
       "      <td>2.0</td>\n",
       "      <td>8.0</td>\n",
       "      <td>2.0</td>\n",
       "      <td>2.0</td>\n",
       "      <td>2.0</td>\n",
       "      <td>NaN</td>\n",
       "      <td>NaN</td>\n",
       "      <td>82612.0</td>\n",
       "    </tr>\n",
       "    <tr>\n",
       "      <th>2</th>\n",
       "      <td>566.143</td>\n",
       "      <td>616.946</td>\n",
       "      <td>556.976</td>\n",
       "      <td>656.532</td>\n",
       "      <td>652.062</td>\n",
       "      <td>611.077</td>\n",
       "      <td>657.387</td>\n",
       "      <td>645.288</td>\n",
       "      <td>646.714</td>\n",
       "      <td>565.086</td>\n",
       "      <td>...</td>\n",
       "      <td>1.0</td>\n",
       "      <td>1.0</td>\n",
       "      <td>1.0</td>\n",
       "      <td>10.0</td>\n",
       "      <td>2.0</td>\n",
       "      <td>1.0</td>\n",
       "      <td>1.0</td>\n",
       "      <td>4.0</td>\n",
       "      <td>3.0</td>\n",
       "      <td>82611.0</td>\n",
       "    </tr>\n",
       "    <tr>\n",
       "      <th>3</th>\n",
       "      <td>371.820</td>\n",
       "      <td>357.674</td>\n",
       "      <td>264.029</td>\n",
       "      <td>393.236</td>\n",
       "      <td>361.008</td>\n",
       "      <td>326.822</td>\n",
       "      <td>390.370</td>\n",
       "      <td>338.591</td>\n",
       "      <td>303.145</td>\n",
       "      <td>382.215</td>\n",
       "      <td>...</td>\n",
       "      <td>3.0</td>\n",
       "      <td>1.0</td>\n",
       "      <td>2.0</td>\n",
       "      <td>1.0</td>\n",
       "      <td>2.0</td>\n",
       "      <td>1.0</td>\n",
       "      <td>1.0</td>\n",
       "      <td>3.0</td>\n",
       "      <td>NaN</td>\n",
       "      <td>82611.0</td>\n",
       "    </tr>\n",
       "    <tr>\n",
       "      <th>4</th>\n",
       "      <td>423.607</td>\n",
       "      <td>382.887</td>\n",
       "      <td>414.527</td>\n",
       "      <td>404.693</td>\n",
       "      <td>388.663</td>\n",
       "      <td>427.517</td>\n",
       "      <td>447.633</td>\n",
       "      <td>445.616</td>\n",
       "      <td>423.227</td>\n",
       "      <td>425.905</td>\n",
       "      <td>...</td>\n",
       "      <td>2.0</td>\n",
       "      <td>1.0</td>\n",
       "      <td>1.0</td>\n",
       "      <td>8.0</td>\n",
       "      <td>1.0</td>\n",
       "      <td>2.0</td>\n",
       "      <td>2.0</td>\n",
       "      <td>NaN</td>\n",
       "      <td>4.0</td>\n",
       "      <td>82611.0</td>\n",
       "    </tr>\n",
       "  </tbody>\n",
       "</table>\n",
       "<p>5 rows × 64 columns</p>\n",
       "</div>"
      ],
      "text/plain": [
       "   PV1MATH  PV2MATH  PV3MATH  PV4MATH  PV5MATH  PV6MATH  PV7MATH  PV8MATH  \\\n",
       "0  699.809  598.369  593.952  603.361  666.143  635.207  608.553  583.002   \n",
       "1  454.479  377.041  463.036  394.994  396.957  429.649  459.601  439.692   \n",
       "2  566.143  616.946  556.976  656.532  652.062  611.077  657.387  645.288   \n",
       "3  371.820  357.674  264.029  393.236  361.008  326.822  390.370  338.591   \n",
       "4  423.607  382.887  414.527  404.693  388.663  427.517  447.633  445.616   \n",
       "\n",
       "   PV9MATH  PV10MATH  ...  ST270Q02JA  ST038Q05NA  ST265Q03JA  ST272Q01JA  \\\n",
       "0  654.755   600.505  ...         4.0         1.0         1.0         4.0   \n",
       "1  402.258   428.020  ...         1.0         1.0         2.0         8.0   \n",
       "2  646.714   565.086  ...         1.0         1.0         1.0        10.0   \n",
       "3  303.145   382.215  ...         3.0         1.0         2.0         1.0   \n",
       "4  423.227   425.905  ...         2.0         1.0         1.0         8.0   \n",
       "\n",
       "   ST034Q02TA  ST038Q03NA  ST038Q04NA  ST315Q04JA  ST315Q06JA   REGION  \n",
       "0         NaN         1.0         1.0         NaN         NaN  82613.0  \n",
       "1         2.0         2.0         2.0         NaN         NaN  82612.0  \n",
       "2         2.0         1.0         1.0         4.0         3.0  82611.0  \n",
       "3         2.0         1.0         1.0         3.0         NaN  82611.0  \n",
       "4         1.0         2.0         2.0         NaN         4.0  82611.0  \n",
       "\n",
       "[5 rows x 64 columns]"
      ]
     },
     "execution_count": 3,
     "metadata": {},
     "output_type": "execute_result"
    }
   ],
   "source": [
    "df.head()"
   ]
  },
  {
   "cell_type": "markdown",
   "id": "f508db47-f3e0-4900-8245-b1feab493e5e",
   "metadata": {},
   "source": [
    "## 1. Recode variables "
   ]
  },
  {
   "cell_type": "code",
   "execution_count": 4,
   "id": "797e36a4-0ce8-4389-9e41-9c17336fd173",
   "metadata": {},
   "outputs": [],
   "source": [
    "# Reverse-coded variables with their original scales\n",
    "# Format: \"VARIABLE_NAME\": (min_value, max_value)\n",
    "reverse_vars = {\n",
    "    \"ST309Q02JA\": (1, 5),  # not_distract: 1–5\n",
    "    \"ST258Q01JA\": (1, 5),  # food_sec: 1–5\n",
    "    \"ST034Q03TA\": (1, 4),  # schl_belong: 1–4\n",
    "    \"ST270Q02JA\": (1, 4),  # teacher_help: 1–4\n",
    "    \"ST038Q05NA\": (1, 4),  # safe_student: 1–4\n",
    "    \"ST265Q03JA\": (1, 4),  # safe_class: 1–4\n",
    "    \"ST034Q02TA\": (1, 4),  # make_friends: 1–4\n",
    "    \"ST038Q03NA\": (1, 4),  # feel_included: 1–4\n",
    "    \"ST038Q04NA\": (1, 4)   # no_mock: 1–4\n",
    "}"
   ]
  },
  {
   "cell_type": "code",
   "execution_count": 5,
   "id": "f03d00b9-0f0d-4fad-8525-578b9099a696",
   "metadata": {},
   "outputs": [],
   "source": [
    "def reverse_code(df, reverse_map):\n",
    "    \"\"\"\n",
    "    Reverse codes selected variables in a DataFrame using their min and max scale values.\n",
    "\n",
    "    Parameters:\n",
    "    - df: pandas DataFrame containing the data\n",
    "    - reverse_map: dict of variable names and their (min, max) scale values\n",
    "\n",
    "    Returns:\n",
    "    - df: DataFrame with reversed values\n",
    "    \"\"\"\n",
    "    df = df.copy()\n",
    "    for var, (min_val, max_val) in reverse_map.items():\n",
    "        if var in df.columns:\n",
    "            df[var] = max_val + min_val - df[var]\n",
    "    return df\n",
    "\n",
    "df = reverse_code(df, reverse_vars)"
   ]
  },
  {
   "cell_type": "markdown",
   "id": "e6d3b021-8d3a-4a15-adc6-93cab8a3dc83",
   "metadata": {},
   "source": [
    "## 2. Create Binary "
   ]
  },
  {
   "cell_type": "code",
   "execution_count": 6,
   "id": "a49b95c1-d01c-4dc8-9c1f-b5cd1d91a1d6",
   "metadata": {},
   "outputs": [],
   "source": [
    "# Binary recoding functions (no renaming applied here)\n",
    "df[\"ST004D01T\"] = df[\"ST004D01T\"].apply(lambda x: 1 if x == 1 else 0 if x == 2 else pd.NA)  # gender: 1 = female, 0 = male\n",
    "df[\"ST327Q06JA\"] = df[\"ST327Q06JA\"].apply(lambda x: 1 if x == 1 else 0 if x == 2 else pd.NA)  # expt_bach: drop 3 later\n",
    "df[\"ST250Q02JA\"] = df[\"ST250Q02JA\"].apply(lambda x: 1 if x == 1 else 0 if x == 2 else pd.NA)  # has_computer\n",
    "df[\"ST255Q01JA\"] = df[\"ST255Q01JA\"].apply(lambda x: 1 if x == 1 else 0 if x in [2,3,4,5,6,7] else pd.NA)  # has_books"
   ]
  },
  {
   "cell_type": "code",
   "execution_count": 7,
   "id": "69331431-cd06-44c1-91a9-3453843a2f7c",
   "metadata": {},
   "outputs": [
    {
     "data": {
      "text/html": [
       "<div>\n",
       "<style scoped>\n",
       "    .dataframe tbody tr th:only-of-type {\n",
       "        vertical-align: middle;\n",
       "    }\n",
       "\n",
       "    .dataframe tbody tr th {\n",
       "        vertical-align: top;\n",
       "    }\n",
       "\n",
       "    .dataframe thead th {\n",
       "        text-align: right;\n",
       "    }\n",
       "</style>\n",
       "<table border=\"1\" class=\"dataframe\">\n",
       "  <thead>\n",
       "    <tr style=\"text-align: right;\">\n",
       "      <th></th>\n",
       "      <th>ST004D01T</th>\n",
       "      <th>ST327Q06JA</th>\n",
       "      <th>ST250Q02JA</th>\n",
       "      <th>ST255Q01JA</th>\n",
       "    </tr>\n",
       "  </thead>\n",
       "  <tbody>\n",
       "    <tr>\n",
       "      <th>0</th>\n",
       "      <td>0</td>\n",
       "      <td>1</td>\n",
       "      <td>1</td>\n",
       "      <td>0</td>\n",
       "    </tr>\n",
       "    <tr>\n",
       "      <th>1</th>\n",
       "      <td>0</td>\n",
       "      <td>0</td>\n",
       "      <td>1</td>\n",
       "      <td>0</td>\n",
       "    </tr>\n",
       "    <tr>\n",
       "      <th>2</th>\n",
       "      <td>0</td>\n",
       "      <td>1</td>\n",
       "      <td>1</td>\n",
       "      <td>0</td>\n",
       "    </tr>\n",
       "    <tr>\n",
       "      <th>3</th>\n",
       "      <td>1</td>\n",
       "      <td>&lt;NA&gt;</td>\n",
       "      <td>0</td>\n",
       "      <td>0</td>\n",
       "    </tr>\n",
       "    <tr>\n",
       "      <th>4</th>\n",
       "      <td>0</td>\n",
       "      <td>&lt;NA&gt;</td>\n",
       "      <td>1</td>\n",
       "      <td>0</td>\n",
       "    </tr>\n",
       "  </tbody>\n",
       "</table>\n",
       "</div>"
      ],
      "text/plain": [
       "   ST004D01T ST327Q06JA ST250Q02JA ST255Q01JA\n",
       "0          0          1          1          0\n",
       "1          0          0          1          0\n",
       "2          0          1          1          0\n",
       "3          1       <NA>          0          0\n",
       "4          0       <NA>          1          0"
      ]
     },
     "execution_count": 7,
     "metadata": {},
     "output_type": "execute_result"
    }
   ],
   "source": [
    "df[[\"ST004D01T\", \"ST327Q06JA\", \"ST250Q02JA\", \"ST255Q01JA\"]].head()"
   ]
  },
  {
   "cell_type": "markdown",
   "id": "3bb6a439-cac3-49f3-8737-bae7c5c7e8cd",
   "metadata": {},
   "source": [
    "## 3. Rename variables "
   ]
  },
  {
   "cell_type": "code",
   "execution_count": 8,
   "id": "4f772a7c-c008-4103-948b-5dfdbc5b91c2",
   "metadata": {},
   "outputs": [],
   "source": [
    "# Core renaming dictionary\n",
    "rename_dict = {\n",
    "    # Individual\n",
    "    \"ST004D01T\": \"gender\",\n",
    "    \"ST016Q01NA\": \"life_sat\",\n",
    "    \"ST313Q01JA\": \"emo_control\",\n",
    "    \"ST309Q02JA\": \"not_distract\",\n",
    "    \"ST301Q01JA\": \"curiosity\",\n",
    "    \"ST305Q01JA\": \"comfort_lead\",\n",
    "\n",
    "    # Academic\n",
    "    \"ST296Q01JA\": \"math_hwork\",\n",
    "    \"ST293Q03JA\": \"math_effort\",\n",
    "    \"ST292Q01JA\": \"math_conf\",\n",
    "    \"ST327Q06JA\": \"expt_bach\",\n",
    "    \"ST355Q05JA\": \"conf_self_mot\",\n",
    "\n",
    "    # Family\n",
    "    \"ESCS\": \"SES\",\n",
    "    \"ST230Q01JA\": \"num_sib\",\n",
    "    \"ST258Q01JA\": \"food_sec\",\n",
    "    \"ST259Q01JA\": \"family_stat\",\n",
    "    \"ST300Q01JA\": \"parent_talk_schl\",\n",
    "    \"ST300Q02JA\": \"parent_eat_with\",\n",
    "    \"ST250Q02JA\": \"has_computer\",\n",
    "    \"ST255Q01JA\": \"has_books\",\n",
    "\n",
    "    # School\n",
    "    \"ST034Q03TA\": \"schl_belong\",\n",
    "    \"ST267Q01JA\": \"teach_respect\",\n",
    "    \"ST267Q05JA\": \"teac_interest\",\n",
    "    \"ST273Q01JA\": \"listen_teacher\",\n",
    "    \"ST285Q04JA\": \"teacher_explain\",\n",
    "    \"ST270Q02JA\": \"teacher_help\",\n",
    "    \"ST038Q05NA\": \"safe_student\",\n",
    "    \"ST265Q03JA\": \"safe_class\",\n",
    "    \"ST272Q01JA\": \"qual_math_instruct\",\n",
    "\n",
    "    # Peer/Social\n",
    "    \"ST034Q02TA\": \"make_friends\",\n",
    "    \"ST038Q03NA\": \"feel_included\",\n",
    "    \"ST038Q04NA\": \"no_mock\",\n",
    "    \"ST315Q04JA\": \"trust_friends\",\n",
    "    \"ST315Q06JA\": \"trust_gen\",\n",
    "\n",
    "    # Contextual\n",
    "    \"REGION\": \"region\"\n",
    "}"
   ]
  },
  {
   "cell_type": "code",
   "execution_count": 9,
   "id": "a8c77ce4-5eeb-4c79-a834-c17b39c4e7d8",
   "metadata": {},
   "outputs": [],
   "source": [
    "# Add PV renaming (PV1MATH → math_1, PV1READ → read_1, etc.)\n",
    "for subject in [\"MATH\", \"READ\", \"SCIE\"]:\n",
    "    for i in range(1, 11):\n",
    "        old = f\"PV{i}{subject}\"\n",
    "        new = f\"{subject.lower()}_{i}\"\n",
    "        rename_dict[old] = new"
   ]
  },
  {
   "cell_type": "code",
   "execution_count": 10,
   "id": "dcf95326-d438-455e-8968-e067ad06878b",
   "metadata": {},
   "outputs": [],
   "source": [
    "df.rename(columns=rename_dict, inplace=True)"
   ]
  },
  {
   "cell_type": "code",
   "execution_count": 11,
   "id": "f99228d6-0f84-4edc-9821-7ed43039f0f6",
   "metadata": {},
   "outputs": [],
   "source": [
    "grouped_vars = {\n",
    "    \"target\": [f\"math_{i}\" for i in range(1, 11)],\n",
    "    \"reading_scores\": [f\"read_{i}\" for i in range(1, 11)],\n",
    "    \"science_scores\": [f\"scie_{i}\" for i in range(1, 11)],\n",
    "    \"individual\": [\"gender\", \"life_sat\", \"emo_control\", \"not_distract\", \"curiosity\", \"comfort_lead\"],\n",
    "    \"academic\": [\"math_hwork\", \"math_effort\", \"math_conf\", \"expt_bach\", \"conf_self_mot\"],\n",
    "    \"family\": [\"SES\", \"num_sib\", \"food_sec\", \"family_stat\", \"parent_talk_schl\", \"parent_eat_with\", \"has_computer\", \"has_books\"],\n",
    "    \"school\": [\"schl_belong\", \"teach_respect\", \"teac_interest\", \"listen_teacher\", \"teacher_explain\", \"teacher_help\", \"safe_student\", \"safe_class\", \"qual_math_instruct\"],\n",
    "    \"peer_social\": [\"make_friends\", \"feel_included\", \"no_mock\", \"trust_friends\", \"trust_gen\"],\n",
    "    \"context\": [\"region\"]\n",
    "}"
   ]
  },
  {
   "cell_type": "code",
   "execution_count": 12,
   "id": "cbf2ac01-f727-4c35-afc0-88ca2b8fd489",
   "metadata": {},
   "outputs": [],
   "source": [
    "individual_features = grouped_vars[\"individual\"]"
   ]
  },
  {
   "cell_type": "code",
   "execution_count": 13,
   "id": "2cacfb93-9b9f-4e3d-bcb1-2229d71dc3e1",
   "metadata": {},
   "outputs": [
    {
     "name": "stdout",
     "output_type": "stream",
     "text": [
      "Renamed columns: ['math_1', 'math_2', 'math_3', 'math_4', 'math_5', 'math_6', 'math_7', 'math_8', 'math_9', 'math_10', 'read_1', 'read_2', 'read_3', 'read_4', 'read_5', 'read_6', 'read_7', 'read_8', 'read_9', 'read_10', 'scie_1', 'scie_2', 'scie_3', 'scie_4', 'scie_5', 'scie_6', 'scie_7', 'scie_8', 'scie_9', 'scie_10', 'gender', 'life_sat', 'emo_control', 'not_distract', 'curiosity', 'comfort_lead', 'math_hwork', 'math_effort', 'math_conf', 'expt_bach', 'conf_self_mot', 'SES', 'num_sib', 'food_sec', 'family_stat', 'parent_talk_schl', 'parent_eat_with', 'has_computer', 'has_books', 'schl_belong', 'teach_respect', 'teac_interest', 'listen_teacher', 'teacher_explain', 'teacher_help', 'safe_student', 'safe_class', 'qual_math_instruct', 'make_friends', 'feel_included', 'no_mock', 'trust_friends', 'trust_gen', 'region']\n"
     ]
    }
   ],
   "source": [
    "print(\"Renamed columns:\", df.columns.tolist())"
   ]
  },
  {
   "cell_type": "code",
   "execution_count": 14,
   "id": "c8849e9f-3fac-4840-96e0-1f3d35f3433d",
   "metadata": {},
   "outputs": [
    {
     "name": "stdout",
     "output_type": "stream",
     "text": [
      "Academic variables: ['math_hwork', 'math_effort', 'math_conf', 'expt_bach', 'conf_self_mot']\n"
     ]
    }
   ],
   "source": [
    "print(\"Academic variables:\", grouped_vars[\"academic\"])"
   ]
  },
  {
   "cell_type": "markdown",
   "id": "28a6db5e-a1b4-468e-bcf4-a6f703b126e7",
   "metadata": {},
   "source": [
    "## 4. Check Missing "
   ]
  },
  {
   "cell_type": "code",
   "execution_count": 15,
   "id": "7dc47f72-b027-4b5b-acbe-d34b12882174",
   "metadata": {},
   "outputs": [
    {
     "data": {
      "text/plain": [
       "conf_self_mot         8268\n",
       "parent_talk_schl      8035\n",
       "parent_eat_with       8024\n",
       "comfort_lead          7637\n",
       "not_distract          7559\n",
       "trust_friends         7555\n",
       "trust_gen             7546\n",
       "emo_control           7491\n",
       "curiosity             7455\n",
       "teacher_explain       7387\n",
       "math_effort           7355\n",
       "expt_bach             7068\n",
       "teach_respect         5976\n",
       "teac_interest         5901\n",
       "listen_teacher        5277\n",
       "math_conf             4588\n",
       "schl_belong           3673\n",
       "make_friends          3626\n",
       "math_hwork            2452\n",
       "teacher_help          2366\n",
       "qual_math_instruct    2129\n",
       "family_stat           1934\n",
       "SES                   1888\n",
       "no_mock               1842\n",
       "safe_student          1837\n",
       "feel_included         1823\n",
       "safe_class            1708\n",
       "life_sat              1702\n",
       "food_sec              1702\n",
       "has_computer          1635\n",
       "has_books             1553\n",
       "num_sib               1530\n",
       "dtype: int64"
      ]
     },
     "execution_count": 15,
     "metadata": {},
     "output_type": "execute_result"
    }
   ],
   "source": [
    "# Check number of missing values in each column\n",
    "missing_values = df.isna().sum()\n",
    "\n",
    "# Display only columns with missing values\n",
    "missing_values[missing_values > 0].sort_values(ascending=False)"
   ]
  },
  {
   "cell_type": "code",
   "execution_count": 16,
   "id": "7d814e67-0b85-4562-ad08-49fefb88cb89",
   "metadata": {},
   "outputs": [
    {
     "data": {
      "text/plain": [
       "conf_self_mot         63.737280\n",
       "parent_talk_schl      61.941104\n",
       "parent_eat_with       61.856306\n",
       "comfort_lead          58.872957\n",
       "not_distract          58.271662\n",
       "trust_friends         58.240826\n",
       "trust_gen             58.171446\n",
       "emo_control           57.747456\n",
       "curiosity             57.469935\n",
       "teacher_explain       56.945729\n",
       "math_effort           56.699044\n",
       "expt_bach             54.486586\n",
       "teach_respect         46.068455\n",
       "teac_interest         45.490287\n",
       "listen_teacher        40.679926\n",
       "math_conf             35.368486\n",
       "schl_belong           28.314832\n",
       "make_friends          27.952513\n",
       "math_hwork            18.902251\n",
       "teacher_help          18.239285\n",
       "qual_math_instruct    16.412273\n",
       "family_stat           14.909035\n",
       "SES                   14.554425\n",
       "no_mock               14.199815\n",
       "safe_student          14.161270\n",
       "feel_included         14.053346\n",
       "safe_class            13.166821\n",
       "life_sat              13.120567\n",
       "food_sec              13.120567\n",
       "has_computer          12.604070\n",
       "has_books             11.971940\n",
       "num_sib               11.794635\n",
       "dtype: float64"
      ]
     },
     "execution_count": 16,
     "metadata": {},
     "output_type": "execute_result"
    }
   ],
   "source": [
    "# Percentage of missing values\n",
    "missing_percent = df.isna().mean() * 100\n",
    "missing_percent[missing_percent > 0].sort_values(ascending=False)\n"
   ]
  },
  {
   "cell_type": "code",
   "execution_count": 19,
   "id": "35316d9f-c28f-4f67-96cd-f6475fc598ad",
   "metadata": {},
   "outputs": [
    {
     "name": "stdout",
     "output_type": "stream",
     "text": [
      "Rows before dropping: 12972\n",
      "Rows after dropping:  0\n",
      "Percentage kept:      0.00%\n"
     ]
    }
   ],
   "source": [
    "#check how many rows would be left if dropped all missing \n",
    "df_dropped = df.dropna()\n",
    "print(f\"Rows before dropping: {len(df)}\")\n",
    "print(f\"Rows after dropping:  {len(df_dropped)}\")\n",
    "print(f\"Percentage kept:      {len(df_dropped) / len(df) * 100:.2f}%\")"
   ]
  },
  {
   "cell_type": "code",
   "execution_count": 20,
   "id": "bec10702-1ed5-45ee-8f7f-4b958f4e004b",
   "metadata": {},
   "outputs": [],
   "source": [
    "#drop anythign with more than 30% missing "
   ]
  },
  {
   "cell_type": "code",
   "execution_count": 21,
   "id": "bd6eb6e9-30ad-40c3-9727-57956cf05733",
   "metadata": {},
   "outputs": [
    {
     "name": "stdout",
     "output_type": "stream",
     "text": [
      "Dropped columns (over 30% missing):\n",
      "['emo_control', 'not_distract', 'curiosity', 'comfort_lead', 'math_effort', 'math_conf', 'expt_bach', 'conf_self_mot', 'parent_talk_schl', 'parent_eat_with', 'teach_respect', 'teac_interest', 'listen_teacher', 'teacher_explain', 'trust_friends', 'trust_gen']\n",
      "\n",
      "Remaining columns: 48\n"
     ]
    }
   ],
   "source": [
    "# Step 2: Drop columns with more than 30% missing values\n",
    "columns_to_drop = missing_percent[missing_percent > 30].index.tolist()\n",
    "df = df.drop(columns=columns_to_drop)\n",
    "\n",
    "# Step 3: Display summary\n",
    "print(\"Dropped columns (over 30% missing):\")\n",
    "print(columns_to_drop)\n",
    "print(f\"\\nRemaining columns: {df.shape[1]}\")"
   ]
  },
  {
   "cell_type": "code",
   "execution_count": 24,
   "id": "64113ea5-5a46-4972-a018-164e0a913530",
   "metadata": {},
   "outputs": [
    {
     "name": "stdout",
     "output_type": "stream",
     "text": [
      "\n",
      "✅ Remaining columns by category:\n",
      "\n",
      "📂 Individual:\n",
      "   - gender\n",
      "   - life_sat\n",
      "\n",
      "📂 Academic:\n",
      "   - math_hwork\n",
      "\n",
      "📂 Family:\n",
      "   - SES\n",
      "   - num_sib\n",
      "   - food_sec\n",
      "   - family_stat\n",
      "   - has_computer\n",
      "   - has_books\n",
      "\n",
      "📂 School:\n",
      "   - schl_belong\n",
      "   - teacher_help\n",
      "   - safe_student\n",
      "   - safe_class\n",
      "   - qual_math_instruct\n",
      "\n",
      "📂 Peer/Social:\n",
      "   - make_friends\n",
      "   - feel_included\n",
      "   - no_mock\n",
      "\n",
      "📂 Contextual:\n",
      "   - region\n",
      "\n"
     ]
    }
   ],
   "source": [
    "# Define original columns grouped by category\n",
    "categories = {\n",
    "    \"Individual\": [\n",
    "        \"gender\", \"life_sat\", \"emo_control\", \"not_distract\", \"curiosity\", \"comfort_lead\"\n",
    "    ],\n",
    "    \"Academic\": [\n",
    "        \"math_hwork\", \"math_effort\", \"math_conf\", \"expt_bach\", \"conf_self_mot\"\n",
    "    ],\n",
    "    \"Family\": [\n",
    "        \"SES\", \"num_sib\", \"food_sec\", \"family_stat\", \"parent_talk_schl\", \"parent_eat_with\", \"has_computer\", \"has_books\"\n",
    "    ],\n",
    "    \"School\": [\n",
    "        \"schl_belong\", \"teach_respect\", \"teac_interest\", \"listen_teacher\",\n",
    "        \"teacher_explain\", \"teacher_help\", \"safe_student\", \"safe_class\", \"qual_math_instruct\"\n",
    "    ],\n",
    "    \"Peer/Social\": [\n",
    "        \"make_friends\", \"feel_included\", \"no_mock\", \"trust_friends\", \"trust_gen\"\n",
    "    ],\n",
    "    \"Contextual\": [\n",
    "        \"region\"\n",
    "    ]\n",
    "}\n",
    "\n",
    "# Filter only those that remain in the dataframe\n",
    "print(\"\\n✅ Remaining columns by category:\\n\")\n",
    "for category, vars in categories.items():\n",
    "    kept = [var for var in vars if var in df.columns]\n",
    "    if kept:\n",
    "        print(f\"📂 {category}:\")\n",
    "        for col in kept:\n",
    "            print(f\"   - {col}\")\n",
    "        print()"
   ]
  },
  {
   "cell_type": "code",
   "execution_count": null,
   "id": "24418058-7859-4417-8c6f-2e19d4b76ae8",
   "metadata": {},
   "outputs": [],
   "source": []
  }
 ],
 "metadata": {
  "kernelspec": {
   "display_name": "Python 3 (ipykernel)",
   "language": "python",
   "name": "python3"
  },
  "language_info": {
   "codemirror_mode": {
    "name": "ipython",
    "version": 3
   },
   "file_extension": ".py",
   "mimetype": "text/x-python",
   "name": "python",
   "nbconvert_exporter": "python",
   "pygments_lexer": "ipython3",
   "version": "3.12.1"
  }
 },
 "nbformat": 4,
 "nbformat_minor": 5
}
