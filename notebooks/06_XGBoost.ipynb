{
 "cells": [
  {
   "cell_type": "markdown",
   "id": "4113a52b-d322-4a8d-ac48-bf7dc6113ae8",
   "metadata": {},
   "source": [
    "# 📘 PISA 2022 UK Data – Modeling Progress\n",
    "\n",
    "## 🧪 Models Tried So Far\n",
    "\n",
    "I have explored the use of **Decision Trees** and **Random Forests** on the PISA 2022 UK dataset:\n",
    "\n",
    "- **Decision Tree:** Overfit the training data and performed poorly on validation.\n",
    "- **Random Forest (Ensemble):** Helped reduce overfitting and improved generalization slightly.\n",
    "\n",
    "---\n",
    "\n",
    "## 🧪 Previous Modeling Summary\n",
    "\n",
    "In earlier experiments (see separate notebook), Random Forests improved overfitting issues observed with a simple decision tree but offered only marginal gains in accuracy. The model performed moderately well but was limited by the binary nature of the target variable, which may have obscured more subtle variations in student performance.\n",
    "\n",
    "---\n",
    "\n",
    "## 🚀 Next Steps\n",
    "\n",
    "I now plan to:\n",
    "\n",
    "- Switch to a **continuous target variable** (`math_1`) instead of the binary `math_binary` to capture finer-grained student performance.\n",
    "- Apply **Gradient Boosting** (specifically Gradient Boosted Trees) to model the continuous target.\n",
    "- Investigate performance improvements using **regression metrics** (e.g., MAE, RMSE, R²).\n",
    "\n",
    "---\n",
    "\n",
    "## 🌱 What Is Gradient Boosting?\n",
    "\n",
    "**Gradient Boosting** is a powerful ensemble method that builds a model in a **stage-wise fashion**, correcting errors made by previous models. Unlike **Random Forests**, which train trees independently in parallel (bagging), Gradient Boosting trains trees **sequentially**, with each tree attempting to minimize the residual errors from the previous one.\n",
    "\n",
    "### 🔁 Key Comparison\n",
    "\n",
    "| Method                         | Strategy                        | Trees Trained | Goal                            |\n",
    "|--------------------------------|----------------------------------|---------------|---------------------------------|\n",
    "| **Bagging** (e.g., Random Forest) | Parallel, on bootstrap samples   | Independently | Reduce variance                 |\n",
    "| **Boosting** (e.g., Gradient Boosting) | Sequential, on residuals         | Step-by-step  | Reduce bias and overall error   |\n",
    "\n",
    "In Gradient Boosting, the final prediction is a **weighted sum of all the weak learners** (typically shallow trees), with each tree focusing more on correcting the mistakes of its predecessors."
   ]
  },
  {
   "cell_type": "markdown",
   "id": "e3982b57-a2b6-467d-8a18-c9570edf5147",
   "metadata": {},
   "source": [
    "## 0. Import libraries, load and split data"
   ]
  },
  {
   "cell_type": "code",
   "execution_count": 1,
   "id": "bc9af3fd-56ff-47ce-bf00-73a0ececa0f7",
   "metadata": {},
   "outputs": [],
   "source": [
    "#Import libraries"
   ]
  },
  {
   "cell_type": "code",
   "execution_count": 2,
   "id": "076cd960-6e36-4d10-a998-9ba247d0f78a",
   "metadata": {},
   "outputs": [],
   "source": [
    "import pandas as pd\n",
    "import numpy as np\n",
    "\n",
    "import matplotlib.pyplot as plt\n",
    "%matplotlib inline\n",
    "import seaborn as sns\n",
    "\n",
    "from sklearn.tree import DecisionTreeClassifier, plot_tree\n",
    "from sklearn.metrics import classification_report, accuracy_score, confusion_matrix\n",
    "from sklearn.model_selection import validation_curve, train_test_split\n",
    "from sklearn.ensemble import RandomForestClassifier\n",
    "from sklearn.model_selection import GridSearchCV\n",
    "\n",
    "\n",
    "from xgboost import XGBRegressor\n",
    "from sklearn.metrics import mean_squared_error, mean_absolute_error, r2_score\n",
    "\n",
    "\n",
    "import shap\n",
    "\n",
    "from math import sqrt\n",
    "\n",
    "import warnings\n",
    "warnings.filterwarnings('ignore')"
   ]
  },
  {
   "cell_type": "code",
   "execution_count": 3,
   "id": "e5ff5c42-6101-465e-9f2c-d8ae444d75f2",
   "metadata": {},
   "outputs": [],
   "source": [
    "#Load and split data "
   ]
  },
  {
   "cell_type": "code",
   "execution_count": 4,
   "id": "6c8dc936-318a-4897-94f9-38a51d4826b8",
   "metadata": {},
   "outputs": [],
   "source": [
    "train_df = pd.read_csv(\"/workspaces/mini_project_2/data/processed/train_cont.csv\")\n",
    "val_df   = pd.read_csv(\"/workspaces/mini_project_2/data/processed/val_cont.csv\")\n",
    "test_df  = pd.read_csv(\"/workspaces/mini_project_2/data/processed/test_cont.csv\")"
   ]
  },
  {
   "cell_type": "code",
   "execution_count": 5,
   "id": "2f744646-7eb0-441d-a60a-35d72f5da15f",
   "metadata": {},
   "outputs": [],
   "source": [
    "X_train = train_df.drop(columns=[\"target\", \"sample_weight\"])\n",
    "y_train = train_df[\"target\"]\n",
    "w_train = train_df[\"sample_weight\"]\n",
    "\n",
    "X_val = val_df.drop(columns=[\"target\", \"sample_weight\"])\n",
    "y_val = val_df[\"target\"]\n",
    "w_val = val_df[\"sample_weight\"]\n",
    "\n",
    "X_test = test_df.drop(columns=[\"target\", \"sample_weight\"])\n",
    "y_test = test_df[\"target\"]\n",
    "w_test = test_df[\"sample_weight\"]"
   ]
  },
  {
   "cell_type": "code",
   "execution_count": 6,
   "id": "4184ed0e-b963-40e9-ad4f-fd8f2565b0dc",
   "metadata": {},
   "outputs": [
    {
     "name": "stdout",
     "output_type": "stream",
     "text": [
      "(7782, 21) (2595, 21) (2595, 21)\n",
      "(7782,) (2595,) (2595,)\n"
     ]
    }
   ],
   "source": [
    "print(X_train.shape, X_val.shape, X_test.shape)\n",
    "\n",
    "print(y_train.shape, y_val.shape, y_test.shape)"
   ]
  },
  {
   "cell_type": "code",
   "execution_count": 7,
   "id": "226f88cd-3d05-4bca-9062-5299e9b5fd73",
   "metadata": {},
   "outputs": [
    {
     "data": {
      "text/plain": [
       "['gender',\n",
       " 'life_sat',\n",
       " 'math_hwork',\n",
       " 'SES',\n",
       " 'num_sib',\n",
       " 'food_sec',\n",
       " 'family_stat',\n",
       " 'has_computer',\n",
       " 'has_books',\n",
       " 'schl_belong',\n",
       " 'teacher_help',\n",
       " 'safe_student',\n",
       " 'safe_class',\n",
       " 'qual_math_instruct',\n",
       " 'make_friends',\n",
       " 'feel_included',\n",
       " 'no_mock',\n",
       " 'region_england',\n",
       " 'region_n_ireland',\n",
       " 'region_scotland',\n",
       " 'region_wales']"
      ]
     },
     "execution_count": 7,
     "metadata": {},
     "output_type": "execute_result"
    }
   ],
   "source": [
    "list(X_train.columns)"
   ]
  },
  {
   "cell_type": "markdown",
   "id": "0ab5b976-fcf0-43c9-8f84-92c1d57edde7",
   "metadata": {},
   "source": [
    "# 1. Train a Baseline XGBoost Regressor"
   ]
  },
  {
   "cell_type": "code",
   "execution_count": 8,
   "id": "5adc5c19-2442-4473-8697-3b91549eb650",
   "metadata": {},
   "outputs": [],
   "source": [
    "#initialise the model \n",
    "baseline = XGBRegressor(\n",
    "    objective='reg:squarederror',  # Required for regression\n",
    "    verbosity=0,\n",
    "    random_state=42\n",
    ")"
   ]
  },
  {
   "cell_type": "code",
   "execution_count": 9,
   "id": "79e5be5a-625d-49ab-9dd0-6d259e849e0e",
   "metadata": {},
   "outputs": [
    {
     "data": {
      "text/html": [
       "<style>#sk-container-id-1 {\n",
       "  /* Definition of color scheme common for light and dark mode */\n",
       "  --sklearn-color-text: #000;\n",
       "  --sklearn-color-text-muted: #666;\n",
       "  --sklearn-color-line: gray;\n",
       "  /* Definition of color scheme for unfitted estimators */\n",
       "  --sklearn-color-unfitted-level-0: #fff5e6;\n",
       "  --sklearn-color-unfitted-level-1: #f6e4d2;\n",
       "  --sklearn-color-unfitted-level-2: #ffe0b3;\n",
       "  --sklearn-color-unfitted-level-3: chocolate;\n",
       "  /* Definition of color scheme for fitted estimators */\n",
       "  --sklearn-color-fitted-level-0: #f0f8ff;\n",
       "  --sklearn-color-fitted-level-1: #d4ebff;\n",
       "  --sklearn-color-fitted-level-2: #b3dbfd;\n",
       "  --sklearn-color-fitted-level-3: cornflowerblue;\n",
       "\n",
       "  /* Specific color for light theme */\n",
       "  --sklearn-color-text-on-default-background: var(--sg-text-color, var(--theme-code-foreground, var(--jp-content-font-color1, black)));\n",
       "  --sklearn-color-background: var(--sg-background-color, var(--theme-background, var(--jp-layout-color0, white)));\n",
       "  --sklearn-color-border-box: var(--sg-text-color, var(--theme-code-foreground, var(--jp-content-font-color1, black)));\n",
       "  --sklearn-color-icon: #696969;\n",
       "\n",
       "  @media (prefers-color-scheme: dark) {\n",
       "    /* Redefinition of color scheme for dark theme */\n",
       "    --sklearn-color-text-on-default-background: var(--sg-text-color, var(--theme-code-foreground, var(--jp-content-font-color1, white)));\n",
       "    --sklearn-color-background: var(--sg-background-color, var(--theme-background, var(--jp-layout-color0, #111)));\n",
       "    --sklearn-color-border-box: var(--sg-text-color, var(--theme-code-foreground, var(--jp-content-font-color1, white)));\n",
       "    --sklearn-color-icon: #878787;\n",
       "  }\n",
       "}\n",
       "\n",
       "#sk-container-id-1 {\n",
       "  color: var(--sklearn-color-text);\n",
       "}\n",
       "\n",
       "#sk-container-id-1 pre {\n",
       "  padding: 0;\n",
       "}\n",
       "\n",
       "#sk-container-id-1 input.sk-hidden--visually {\n",
       "  border: 0;\n",
       "  clip: rect(1px 1px 1px 1px);\n",
       "  clip: rect(1px, 1px, 1px, 1px);\n",
       "  height: 1px;\n",
       "  margin: -1px;\n",
       "  overflow: hidden;\n",
       "  padding: 0;\n",
       "  position: absolute;\n",
       "  width: 1px;\n",
       "}\n",
       "\n",
       "#sk-container-id-1 div.sk-dashed-wrapped {\n",
       "  border: 1px dashed var(--sklearn-color-line);\n",
       "  margin: 0 0.4em 0.5em 0.4em;\n",
       "  box-sizing: border-box;\n",
       "  padding-bottom: 0.4em;\n",
       "  background-color: var(--sklearn-color-background);\n",
       "}\n",
       "\n",
       "#sk-container-id-1 div.sk-container {\n",
       "  /* jupyter's `normalize.less` sets `[hidden] { display: none; }`\n",
       "     but bootstrap.min.css set `[hidden] { display: none !important; }`\n",
       "     so we also need the `!important` here to be able to override the\n",
       "     default hidden behavior on the sphinx rendered scikit-learn.org.\n",
       "     See: https://github.com/scikit-learn/scikit-learn/issues/21755 */\n",
       "  display: inline-block !important;\n",
       "  position: relative;\n",
       "}\n",
       "\n",
       "#sk-container-id-1 div.sk-text-repr-fallback {\n",
       "  display: none;\n",
       "}\n",
       "\n",
       "div.sk-parallel-item,\n",
       "div.sk-serial,\n",
       "div.sk-item {\n",
       "  /* draw centered vertical line to link estimators */\n",
       "  background-image: linear-gradient(var(--sklearn-color-text-on-default-background), var(--sklearn-color-text-on-default-background));\n",
       "  background-size: 2px 100%;\n",
       "  background-repeat: no-repeat;\n",
       "  background-position: center center;\n",
       "}\n",
       "\n",
       "/* Parallel-specific style estimator block */\n",
       "\n",
       "#sk-container-id-1 div.sk-parallel-item::after {\n",
       "  content: \"\";\n",
       "  width: 100%;\n",
       "  border-bottom: 2px solid var(--sklearn-color-text-on-default-background);\n",
       "  flex-grow: 1;\n",
       "}\n",
       "\n",
       "#sk-container-id-1 div.sk-parallel {\n",
       "  display: flex;\n",
       "  align-items: stretch;\n",
       "  justify-content: center;\n",
       "  background-color: var(--sklearn-color-background);\n",
       "  position: relative;\n",
       "}\n",
       "\n",
       "#sk-container-id-1 div.sk-parallel-item {\n",
       "  display: flex;\n",
       "  flex-direction: column;\n",
       "}\n",
       "\n",
       "#sk-container-id-1 div.sk-parallel-item:first-child::after {\n",
       "  align-self: flex-end;\n",
       "  width: 50%;\n",
       "}\n",
       "\n",
       "#sk-container-id-1 div.sk-parallel-item:last-child::after {\n",
       "  align-self: flex-start;\n",
       "  width: 50%;\n",
       "}\n",
       "\n",
       "#sk-container-id-1 div.sk-parallel-item:only-child::after {\n",
       "  width: 0;\n",
       "}\n",
       "\n",
       "/* Serial-specific style estimator block */\n",
       "\n",
       "#sk-container-id-1 div.sk-serial {\n",
       "  display: flex;\n",
       "  flex-direction: column;\n",
       "  align-items: center;\n",
       "  background-color: var(--sklearn-color-background);\n",
       "  padding-right: 1em;\n",
       "  padding-left: 1em;\n",
       "}\n",
       "\n",
       "\n",
       "/* Toggleable style: style used for estimator/Pipeline/ColumnTransformer box that is\n",
       "clickable and can be expanded/collapsed.\n",
       "- Pipeline and ColumnTransformer use this feature and define the default style\n",
       "- Estimators will overwrite some part of the style using the `sk-estimator` class\n",
       "*/\n",
       "\n",
       "/* Pipeline and ColumnTransformer style (default) */\n",
       "\n",
       "#sk-container-id-1 div.sk-toggleable {\n",
       "  /* Default theme specific background. It is overwritten whether we have a\n",
       "  specific estimator or a Pipeline/ColumnTransformer */\n",
       "  background-color: var(--sklearn-color-background);\n",
       "}\n",
       "\n",
       "/* Toggleable label */\n",
       "#sk-container-id-1 label.sk-toggleable__label {\n",
       "  cursor: pointer;\n",
       "  display: flex;\n",
       "  width: 100%;\n",
       "  margin-bottom: 0;\n",
       "  padding: 0.5em;\n",
       "  box-sizing: border-box;\n",
       "  text-align: center;\n",
       "  align-items: start;\n",
       "  justify-content: space-between;\n",
       "  gap: 0.5em;\n",
       "}\n",
       "\n",
       "#sk-container-id-1 label.sk-toggleable__label .caption {\n",
       "  font-size: 0.6rem;\n",
       "  font-weight: lighter;\n",
       "  color: var(--sklearn-color-text-muted);\n",
       "}\n",
       "\n",
       "#sk-container-id-1 label.sk-toggleable__label-arrow:before {\n",
       "  /* Arrow on the left of the label */\n",
       "  content: \"▸\";\n",
       "  float: left;\n",
       "  margin-right: 0.25em;\n",
       "  color: var(--sklearn-color-icon);\n",
       "}\n",
       "\n",
       "#sk-container-id-1 label.sk-toggleable__label-arrow:hover:before {\n",
       "  color: var(--sklearn-color-text);\n",
       "}\n",
       "\n",
       "/* Toggleable content - dropdown */\n",
       "\n",
       "#sk-container-id-1 div.sk-toggleable__content {\n",
       "  max-height: 0;\n",
       "  max-width: 0;\n",
       "  overflow: hidden;\n",
       "  text-align: left;\n",
       "  /* unfitted */\n",
       "  background-color: var(--sklearn-color-unfitted-level-0);\n",
       "}\n",
       "\n",
       "#sk-container-id-1 div.sk-toggleable__content.fitted {\n",
       "  /* fitted */\n",
       "  background-color: var(--sklearn-color-fitted-level-0);\n",
       "}\n",
       "\n",
       "#sk-container-id-1 div.sk-toggleable__content pre {\n",
       "  margin: 0.2em;\n",
       "  border-radius: 0.25em;\n",
       "  color: var(--sklearn-color-text);\n",
       "  /* unfitted */\n",
       "  background-color: var(--sklearn-color-unfitted-level-0);\n",
       "}\n",
       "\n",
       "#sk-container-id-1 div.sk-toggleable__content.fitted pre {\n",
       "  /* unfitted */\n",
       "  background-color: var(--sklearn-color-fitted-level-0);\n",
       "}\n",
       "\n",
       "#sk-container-id-1 input.sk-toggleable__control:checked~div.sk-toggleable__content {\n",
       "  /* Expand drop-down */\n",
       "  max-height: 200px;\n",
       "  max-width: 100%;\n",
       "  overflow: auto;\n",
       "}\n",
       "\n",
       "#sk-container-id-1 input.sk-toggleable__control:checked~label.sk-toggleable__label-arrow:before {\n",
       "  content: \"▾\";\n",
       "}\n",
       "\n",
       "/* Pipeline/ColumnTransformer-specific style */\n",
       "\n",
       "#sk-container-id-1 div.sk-label input.sk-toggleable__control:checked~label.sk-toggleable__label {\n",
       "  color: var(--sklearn-color-text);\n",
       "  background-color: var(--sklearn-color-unfitted-level-2);\n",
       "}\n",
       "\n",
       "#sk-container-id-1 div.sk-label.fitted input.sk-toggleable__control:checked~label.sk-toggleable__label {\n",
       "  background-color: var(--sklearn-color-fitted-level-2);\n",
       "}\n",
       "\n",
       "/* Estimator-specific style */\n",
       "\n",
       "/* Colorize estimator box */\n",
       "#sk-container-id-1 div.sk-estimator input.sk-toggleable__control:checked~label.sk-toggleable__label {\n",
       "  /* unfitted */\n",
       "  background-color: var(--sklearn-color-unfitted-level-2);\n",
       "}\n",
       "\n",
       "#sk-container-id-1 div.sk-estimator.fitted input.sk-toggleable__control:checked~label.sk-toggleable__label {\n",
       "  /* fitted */\n",
       "  background-color: var(--sklearn-color-fitted-level-2);\n",
       "}\n",
       "\n",
       "#sk-container-id-1 div.sk-label label.sk-toggleable__label,\n",
       "#sk-container-id-1 div.sk-label label {\n",
       "  /* The background is the default theme color */\n",
       "  color: var(--sklearn-color-text-on-default-background);\n",
       "}\n",
       "\n",
       "/* On hover, darken the color of the background */\n",
       "#sk-container-id-1 div.sk-label:hover label.sk-toggleable__label {\n",
       "  color: var(--sklearn-color-text);\n",
       "  background-color: var(--sklearn-color-unfitted-level-2);\n",
       "}\n",
       "\n",
       "/* Label box, darken color on hover, fitted */\n",
       "#sk-container-id-1 div.sk-label.fitted:hover label.sk-toggleable__label.fitted {\n",
       "  color: var(--sklearn-color-text);\n",
       "  background-color: var(--sklearn-color-fitted-level-2);\n",
       "}\n",
       "\n",
       "/* Estimator label */\n",
       "\n",
       "#sk-container-id-1 div.sk-label label {\n",
       "  font-family: monospace;\n",
       "  font-weight: bold;\n",
       "  display: inline-block;\n",
       "  line-height: 1.2em;\n",
       "}\n",
       "\n",
       "#sk-container-id-1 div.sk-label-container {\n",
       "  text-align: center;\n",
       "}\n",
       "\n",
       "/* Estimator-specific */\n",
       "#sk-container-id-1 div.sk-estimator {\n",
       "  font-family: monospace;\n",
       "  border: 1px dotted var(--sklearn-color-border-box);\n",
       "  border-radius: 0.25em;\n",
       "  box-sizing: border-box;\n",
       "  margin-bottom: 0.5em;\n",
       "  /* unfitted */\n",
       "  background-color: var(--sklearn-color-unfitted-level-0);\n",
       "}\n",
       "\n",
       "#sk-container-id-1 div.sk-estimator.fitted {\n",
       "  /* fitted */\n",
       "  background-color: var(--sklearn-color-fitted-level-0);\n",
       "}\n",
       "\n",
       "/* on hover */\n",
       "#sk-container-id-1 div.sk-estimator:hover {\n",
       "  /* unfitted */\n",
       "  background-color: var(--sklearn-color-unfitted-level-2);\n",
       "}\n",
       "\n",
       "#sk-container-id-1 div.sk-estimator.fitted:hover {\n",
       "  /* fitted */\n",
       "  background-color: var(--sklearn-color-fitted-level-2);\n",
       "}\n",
       "\n",
       "/* Specification for estimator info (e.g. \"i\" and \"?\") */\n",
       "\n",
       "/* Common style for \"i\" and \"?\" */\n",
       "\n",
       ".sk-estimator-doc-link,\n",
       "a:link.sk-estimator-doc-link,\n",
       "a:visited.sk-estimator-doc-link {\n",
       "  float: right;\n",
       "  font-size: smaller;\n",
       "  line-height: 1em;\n",
       "  font-family: monospace;\n",
       "  background-color: var(--sklearn-color-background);\n",
       "  border-radius: 1em;\n",
       "  height: 1em;\n",
       "  width: 1em;\n",
       "  text-decoration: none !important;\n",
       "  margin-left: 0.5em;\n",
       "  text-align: center;\n",
       "  /* unfitted */\n",
       "  border: var(--sklearn-color-unfitted-level-1) 1pt solid;\n",
       "  color: var(--sklearn-color-unfitted-level-1);\n",
       "}\n",
       "\n",
       ".sk-estimator-doc-link.fitted,\n",
       "a:link.sk-estimator-doc-link.fitted,\n",
       "a:visited.sk-estimator-doc-link.fitted {\n",
       "  /* fitted */\n",
       "  border: var(--sklearn-color-fitted-level-1) 1pt solid;\n",
       "  color: var(--sklearn-color-fitted-level-1);\n",
       "}\n",
       "\n",
       "/* On hover */\n",
       "div.sk-estimator:hover .sk-estimator-doc-link:hover,\n",
       ".sk-estimator-doc-link:hover,\n",
       "div.sk-label-container:hover .sk-estimator-doc-link:hover,\n",
       ".sk-estimator-doc-link:hover {\n",
       "  /* unfitted */\n",
       "  background-color: var(--sklearn-color-unfitted-level-3);\n",
       "  color: var(--sklearn-color-background);\n",
       "  text-decoration: none;\n",
       "}\n",
       "\n",
       "div.sk-estimator.fitted:hover .sk-estimator-doc-link.fitted:hover,\n",
       ".sk-estimator-doc-link.fitted:hover,\n",
       "div.sk-label-container:hover .sk-estimator-doc-link.fitted:hover,\n",
       ".sk-estimator-doc-link.fitted:hover {\n",
       "  /* fitted */\n",
       "  background-color: var(--sklearn-color-fitted-level-3);\n",
       "  color: var(--sklearn-color-background);\n",
       "  text-decoration: none;\n",
       "}\n",
       "\n",
       "/* Span, style for the box shown on hovering the info icon */\n",
       ".sk-estimator-doc-link span {\n",
       "  display: none;\n",
       "  z-index: 9999;\n",
       "  position: relative;\n",
       "  font-weight: normal;\n",
       "  right: .2ex;\n",
       "  padding: .5ex;\n",
       "  margin: .5ex;\n",
       "  width: min-content;\n",
       "  min-width: 20ex;\n",
       "  max-width: 50ex;\n",
       "  color: var(--sklearn-color-text);\n",
       "  box-shadow: 2pt 2pt 4pt #999;\n",
       "  /* unfitted */\n",
       "  background: var(--sklearn-color-unfitted-level-0);\n",
       "  border: .5pt solid var(--sklearn-color-unfitted-level-3);\n",
       "}\n",
       "\n",
       ".sk-estimator-doc-link.fitted span {\n",
       "  /* fitted */\n",
       "  background: var(--sklearn-color-fitted-level-0);\n",
       "  border: var(--sklearn-color-fitted-level-3);\n",
       "}\n",
       "\n",
       ".sk-estimator-doc-link:hover span {\n",
       "  display: block;\n",
       "}\n",
       "\n",
       "/* \"?\"-specific style due to the `<a>` HTML tag */\n",
       "\n",
       "#sk-container-id-1 a.estimator_doc_link {\n",
       "  float: right;\n",
       "  font-size: 1rem;\n",
       "  line-height: 1em;\n",
       "  font-family: monospace;\n",
       "  background-color: var(--sklearn-color-background);\n",
       "  border-radius: 1rem;\n",
       "  height: 1rem;\n",
       "  width: 1rem;\n",
       "  text-decoration: none;\n",
       "  /* unfitted */\n",
       "  color: var(--sklearn-color-unfitted-level-1);\n",
       "  border: var(--sklearn-color-unfitted-level-1) 1pt solid;\n",
       "}\n",
       "\n",
       "#sk-container-id-1 a.estimator_doc_link.fitted {\n",
       "  /* fitted */\n",
       "  border: var(--sklearn-color-fitted-level-1) 1pt solid;\n",
       "  color: var(--sklearn-color-fitted-level-1);\n",
       "}\n",
       "\n",
       "/* On hover */\n",
       "#sk-container-id-1 a.estimator_doc_link:hover {\n",
       "  /* unfitted */\n",
       "  background-color: var(--sklearn-color-unfitted-level-3);\n",
       "  color: var(--sklearn-color-background);\n",
       "  text-decoration: none;\n",
       "}\n",
       "\n",
       "#sk-container-id-1 a.estimator_doc_link.fitted:hover {\n",
       "  /* fitted */\n",
       "  background-color: var(--sklearn-color-fitted-level-3);\n",
       "}\n",
       "</style><div id=\"sk-container-id-1\" class=\"sk-top-container\"><div class=\"sk-text-repr-fallback\"><pre>XGBRegressor(base_score=None, booster=None, callbacks=None,\n",
       "             colsample_bylevel=None, colsample_bynode=None,\n",
       "             colsample_bytree=None, device=None, early_stopping_rounds=None,\n",
       "             enable_categorical=False, eval_metric=None, feature_types=None,\n",
       "             feature_weights=None, gamma=None, grow_policy=None,\n",
       "             importance_type=None, interaction_constraints=None,\n",
       "             learning_rate=None, max_bin=None, max_cat_threshold=None,\n",
       "             max_cat_to_onehot=None, max_delta_step=None, max_depth=None,\n",
       "             max_leaves=None, min_child_weight=None, missing=nan,\n",
       "             monotone_constraints=None, multi_strategy=None, n_estimators=None,\n",
       "             n_jobs=None, num_parallel_tree=None, ...)</pre><b>In a Jupyter environment, please rerun this cell to show the HTML representation or trust the notebook. <br />On GitHub, the HTML representation is unable to render, please try loading this page with nbviewer.org.</b></div><div class=\"sk-container\" hidden><div class=\"sk-item\"><div class=\"sk-estimator fitted sk-toggleable\"><input class=\"sk-toggleable__control sk-hidden--visually\" id=\"sk-estimator-id-1\" type=\"checkbox\" checked><label for=\"sk-estimator-id-1\" class=\"sk-toggleable__label fitted sk-toggleable__label-arrow\"><div><div>XGBRegressor</div></div><div><a class=\"sk-estimator-doc-link fitted\" rel=\"noreferrer\" target=\"_blank\" href=\"https://xgboost.readthedocs.io/en/release_3.0.0/python/python_api.html#xgboost.XGBRegressor\">?<span>Documentation for XGBRegressor</span></a><span class=\"sk-estimator-doc-link fitted\">i<span>Fitted</span></span></div></label><div class=\"sk-toggleable__content fitted\"><pre>XGBRegressor(base_score=None, booster=None, callbacks=None,\n",
       "             colsample_bylevel=None, colsample_bynode=None,\n",
       "             colsample_bytree=None, device=None, early_stopping_rounds=None,\n",
       "             enable_categorical=False, eval_metric=None, feature_types=None,\n",
       "             feature_weights=None, gamma=None, grow_policy=None,\n",
       "             importance_type=None, interaction_constraints=None,\n",
       "             learning_rate=None, max_bin=None, max_cat_threshold=None,\n",
       "             max_cat_to_onehot=None, max_delta_step=None, max_depth=None,\n",
       "             max_leaves=None, min_child_weight=None, missing=nan,\n",
       "             monotone_constraints=None, multi_strategy=None, n_estimators=None,\n",
       "             n_jobs=None, num_parallel_tree=None, ...)</pre></div> </div></div></div></div>"
      ],
      "text/plain": [
       "XGBRegressor(base_score=None, booster=None, callbacks=None,\n",
       "             colsample_bylevel=None, colsample_bynode=None,\n",
       "             colsample_bytree=None, device=None, early_stopping_rounds=None,\n",
       "             enable_categorical=False, eval_metric=None, feature_types=None,\n",
       "             feature_weights=None, gamma=None, grow_policy=None,\n",
       "             importance_type=None, interaction_constraints=None,\n",
       "             learning_rate=None, max_bin=None, max_cat_threshold=None,\n",
       "             max_cat_to_onehot=None, max_delta_step=None, max_depth=None,\n",
       "             max_leaves=None, min_child_weight=None, missing=nan,\n",
       "             monotone_constraints=None, multi_strategy=None, n_estimators=None,\n",
       "             n_jobs=None, num_parallel_tree=None, ...)"
      ]
     },
     "execution_count": 9,
     "metadata": {},
     "output_type": "execute_result"
    }
   ],
   "source": [
    "#fit the model \n",
    "baseline.fit(X_train, y_train, sample_weight=w_train)"
   ]
  },
  {
   "cell_type": "code",
   "execution_count": 10,
   "id": "df8a4d00-302f-43dc-b95b-677d8a99d2fc",
   "metadata": {},
   "outputs": [],
   "source": [
    "#make predictions \n",
    "train_preds = baseline.predict(X_train)\n",
    "val_preds = baseline.predict(X_val)"
   ]
  },
  {
   "cell_type": "code",
   "execution_count": 11,
   "id": "1e8dc8a4-c898-41e9-9d55-346eeb63ceba",
   "metadata": {},
   "outputs": [],
   "source": [
    "#calculate the RMSE for training and validation sets (RMSE is easeir to interpret than MSE becuase it is in the same untis as the target variable) \n",
    "train_rmse = sqrt(mean_squared_error(y_train, train_preds))\n",
    "val_rmse = sqrt(mean_squared_error(y_val, val_preds))"
   ]
  },
  {
   "cell_type": "code",
   "execution_count": 12,
   "id": "59c8e8cf-2889-4911-a425-bfd18c5bc225",
   "metadata": {},
   "outputs": [],
   "source": [
    "#calculate the R2 (coefficient of determination) for training and validation sets\n",
    "train_r2 = r2_score(y_train, train_preds)\n",
    "val_r2 = r2_score(y_val, val_preds)"
   ]
  },
  {
   "cell_type": "code",
   "execution_count": 13,
   "id": "530a1c39-2c43-4d1b-9320-2a833c8d81a4",
   "metadata": {},
   "outputs": [
    {
     "name": "stdout",
     "output_type": "stream",
     "text": [
      "Train RMSE: 56.675, R²: 0.643\n",
      "Val RMSE: 88.783, R²: 0.143\n"
     ]
    }
   ],
   "source": [
    "#print the metrics \n",
    "print(f\"Train RMSE: {train_rmse:.3f}, R²: {train_r2:.3f}\")\n",
    "print(f\"Val RMSE: {val_rmse:.3f}, R²: {val_r2:.3f}\")"
   ]
  },
  {
   "cell_type": "markdown",
   "id": "17eb2f8f-f87b-4535-9453-a3b390bb3bfa",
   "metadata": {},
   "source": [
    "#### Summary: The model performs moderately well on the training data (RMSE: 56.68, R²: 0.64) but generalizes poorly to the validation set (RMSE: 88.78, R²: 0.14), suggesting overfitting.Regularization or model tuning may help improve generalization."
   ]
  },
  {
   "cell_type": "markdown",
   "id": "5ce38db3-5831-42ec-9641-44264d5490d6",
   "metadata": {},
   "source": [
    "# 2. Manual Tuning of hyperparameters "
   ]
  },
  {
   "cell_type": "markdown",
   "id": "014cab0a-c0c0-46f1-88d4-c90308e0fa55",
   "metadata": {},
   "source": [
    "## 2.1. Tune max_depth"
   ]
  },
  {
   "cell_type": "code",
   "execution_count": 23,
   "id": "9a7647f9-6b36-41fc-9879-873954bcc238",
   "metadata": {},
   "outputs": [
    {
     "name": "stdout",
     "output_type": "stream",
     "text": [
      "max_depth=2 | Train RMSE: 78.437, Val RMSE: 82.666\n",
      "max_depth=3 | Train RMSE: 75.743, Val RMSE: 83.922\n",
      "max_depth=4 | Train RMSE: 71.750, Val RMSE: 86.182\n",
      "max_depth=5 | Train RMSE: 65.218, Val RMSE: 86.877\n",
      "max_depth=6 | Train RMSE: 56.675, Val RMSE: 88.783\n"
     ]
    }
   ],
   "source": [
    "from math import sqrt\n",
    "from sklearn.metrics import mean_squared_error\n",
    "\n",
    "# Loop through different values of max_depth to compare model performance\n",
    "for d in [2, 3, 4, 5, 6]:\n",
    "    # initialise model\n",
    "    model = XGBRegressor(\n",
    "        max_depth=d,\n",
    "        objective='reg:squarederror',\n",
    "        random_state=42,\n",
    "        verbosity=0\n",
    "    )\n",
    "\n",
    "    # fit the model to the training data with sample weights\n",
    "    model.fit(X_train, y_train, sample_weight=w_train)\n",
    "\n",
    "    # predict on both training and validation sets\n",
    "    train_preds = model.predict(X_train)\n",
    "    val_preds = model.predict(X_val)\n",
    "\n",
    "    # calculate RMSE for both sets\n",
    "    train_rmse = sqrt(mean_squared_error(y_train, train_preds))\n",
    "    val_rmse = sqrt(mean_squared_error(y_val, val_preds))\n",
    "\n",
    "    # print RMSE results\n",
    "    print(f\"max_depth={d} | Train RMSE: {train_rmse:.3f}, Val RMSE: {val_rmse:.3f}\")"
   ]
  },
  {
   "cell_type": "code",
   "execution_count": 31,
   "id": "f65ef42d-0cbb-47f9-aba0-a32b97f0ec7a",
   "metadata": {},
   "outputs": [
    {
     "data": {
      "image/png": "[encoded data removed]",
      "text/plain": [
       "<Figure size 800x500 with 1 Axes>"
      ]
     },
     "metadata": {},
     "output_type": "display_data"
    }
   ],
   "source": [
    "# visualise the results \n",
    "max_depths = [2, 3, 4, 5, 6]\n",
    "train_rmse = [78.437, 75.743, 71.750, 65.218, 56.675]\n",
    "val_rmse = [82.666, 83.922, 86.182, 86.877, 88.783]\n",
    "\n",
    "# Create the plot\n",
    "plt.figure(figsize=(8, 5))\n",
    "plt.plot(max_depths, train_rmse, marker='o', label='Train RMSE')\n",
    "plt.plot(max_depths, val_rmse, marker='o', label='Validation RMSE')\n",
    "plt.xlabel('max_depth')\n",
    "plt.ylabel('RMSE')\n",
    "plt.title('RMSE vs. max_depth')\n",
    "plt.legend()\n",
    "plt.grid(True)\n",
    "plt.tight_layout()\n",
    "plt.show()"
   ]
  },
  {
   "cell_type": "markdown",
   "id": "b4f2b135-e889-4708-8c52-4aca7b44f470",
   "metadata": {},
   "source": [
    "#### Summary:\n",
    "Increasing `max_depth` improves training performance but consistently worsens validation RMSE, indicating overfitting. The best generalization is achieved at `max_depth=2`, suggesting a shallow model is more effective for this dataset."
   ]
  },
  {
   "cell_type": "markdown",
   "id": "67057cbe-11b1-4ce4-b654-ea46013081a4",
   "metadata": {},
   "source": [
    "## 2.2. Tune reg_lamba"
   ]
  },
  {
   "cell_type": "markdown",
   "id": "92b6770e-c7fb-4104-b656-9fca354e4f5e",
   "metadata": {},
   "source": [
    "#### **`reg_lambda`** controls L2 regularization in XGBoost by penalizing large leaf weights, helping to reduce overfitting. Higher values encourage simpler models that generalize better, while lower values allow the model to fit the training data more closely."
   ]
  },
  {
   "cell_type": "code",
   "execution_count": 26,
   "id": "0422fd27-7314-45b0-8916-80a0302a569a",
   "metadata": {},
   "outputs": [
    {
     "name": "stdout",
     "output_type": "stream",
     "text": [
      "reg_lambda=0 | Train RMSE: 78.436, Val RMSE: 82.666\n",
      "reg_lambda=0.1 | Train RMSE: 78.436, Val RMSE: 82.666\n",
      "reg_lambda=1 | Train RMSE: 78.437, Val RMSE: 82.666\n",
      "reg_lambda=10 | Train RMSE: 78.430, Val RMSE: 82.692\n"
     ]
    }
   ],
   "source": [
    "for reg_lambda in [0, 0.1, 1, 10]:\n",
    "    model = XGBRegressor(\n",
    "        max_depth=2,\n",
    "        n_estimators=100,\n",
    "        reg_lambda=reg_lambda,\n",
    "        objective='reg:squarederror',\n",
    "        random_state=42,\n",
    "        verbosity=0\n",
    "    )\n",
    "    model.fit(X_train, y_train, sample_weight=w_train)\n",
    "    \n",
    "    train_preds = model.predict(X_train)\n",
    "    val_preds = model.predict(X_val)\n",
    "\n",
    "    train_rmse = sqrt(mean_squared_error(y_train, train_preds))\n",
    "    val_rmse = sqrt(mean_squared_error(y_val, val_preds))\n",
    "\n",
    "    print(f\"reg_lambda={reg_lambda} | Train RMSE: {train_rmse:.3f}, Val RMSE: {val_rmse:.3f}\")"
   ]
  },
  {
   "cell_type": "markdown",
   "id": "dab12bdd-592f-4938-b593-a6adb50abe00",
   "metadata": {},
   "source": [
    "#### Tuning `reg_lambda` had minimal effect on RMSE for both training and validation sets, suggesting that L2 regularization is not significantly impacting model complexity at the current depth."
   ]
  },
  {
   "cell_type": "markdown",
   "id": "f27777df-d9d6-4809-9fc6-2101a7855c59",
   "metadata": {},
   "source": [
    "## 2.3. Tune n_estimators "
   ]
  },
  {
   "cell_type": "markdown",
   "id": "eaf5d615-f83d-4b4e-9c3e-aae7630e9c05",
   "metadata": {},
   "source": [
    "**🧠 What is `n_estimators`?**  \n",
    "`n_estimators` controls the number of boosting rounds (i.e., the number of trees the model builds). Increasing it can improve training accuracy, but too many trees may lead to overfitting and poor generalization on validation data.\n"
   ]
  },
  {
   "cell_type": "code",
   "execution_count": 28,
   "id": "031a7243-14c0-4a7a-9c4c-e74053bad66c",
   "metadata": {},
   "outputs": [
    {
     "name": "stdout",
     "output_type": "stream",
     "text": [
      "n_estimators=50 | Train RMSE: 77.492, Val RMSE: 83.249\n",
      "n_estimators=100 | Train RMSE: 75.743, Val RMSE: 83.922\n",
      "n_estimators=200 | Train RMSE: 73.979, Val RMSE: 85.192\n",
      "n_estimators=300 | Train RMSE: 72.638, Val RMSE: 86.379\n",
      "n_estimators=500 | Train RMSE: 70.385, Val RMSE: 88.318\n"
     ]
    }
   ],
   "source": [
    "# Values to try\n",
    "n_estimators_values = [50, 100, 200, 300, 500]\n",
    "\n",
    "# Loop over different n_estimators\n",
    "for n_estimators in n_estimators_values:\n",
    "    \n",
    "    # Initialize model with current n_estimators\n",
    "    model = XGBRegressor(\n",
    "        max_depth=3,\n",
    "        n_estimators=n_estimators,\n",
    "        objective='reg:squarederror',\n",
    "        random_state=42,\n",
    "        verbosity=0\n",
    "    )\n",
    "    \n",
    "    # Fit the model\n",
    "    model.fit(X_train, y_train, sample_weight=w_train)\n",
    "\n",
    "    # Predict\n",
    "    train_preds = model.predict(X_train)\n",
    "    val_preds = model.predict(X_val)\n",
    "\n",
    "    # Evaluate\n",
    "    train_rmse = sqrt(mean_squared_error(y_train, train_preds))\n",
    "    val_rmse = sqrt(mean_squared_error(y_val, val_preds))\n",
    "\n",
    "    # Print results\n",
    "    print(f\"n_estimators={n_estimators} | Train RMSE: {train_rmse:.3f}, Val RMSE: {val_rmse:.3f}\")\n"
   ]
  },
  {
   "cell_type": "code",
   "execution_count": 30,
   "id": "2031e155-0398-4195-b209-caf788986d5e",
   "metadata": {},
   "outputs": [
    {
     "data": {
      "image/png": "[encoded data removed]",
      "text/plain": [
       "<Figure size 800x500 with 1 Axes>"
      ]
     },
     "metadata": {},
     "output_type": "display_data"
    }
   ],
   "source": [
    "# Your tuning results\n",
    "n_estimators = [50, 100, 200, 300, 500]\n",
    "train_rmse = [77.492, 75.743, 73.979, 72.638, 70.385]\n",
    "val_rmse = [83.249, 83.922, 85.192, 86.379, 88.318]\n",
    "\n",
    "# Create the plot\n",
    "plt.figure(figsize=(8, 5))\n",
    "plt.plot(n_estimators, train_rmse, marker='o', label='Train RMSE')\n",
    "plt.plot(n_estimators, val_rmse, marker='o', label='Validation RMSE')\n",
    "plt.xlabel('n_estimators')\n",
    "plt.ylabel('RMSE')\n",
    "plt.title('RMSE vs. n_estimators')\n",
    "plt.legend()\n",
    "plt.grid(True)\n",
    "plt.tight_layout()\n",
    "plt.show()"
   ]
  },
  {
   "cell_type": "code",
   "execution_count": 29,
   "id": "cb2d54b5-7917-4937-b0f6-1e01898d4355",
   "metadata": {},
   "outputs": [
    {
     "name": "stdout",
     "output_type": "stream",
     "text": [
      "n_estimators=40 | Train RMSE: 78.014, Val RMSE: 83.227\n",
      "n_estimators=60 | Train RMSE: 77.061, Val RMSE: 83.367\n",
      "n_estimators=75 | Train RMSE: 76.422, Val RMSE: 83.546\n"
     ]
    }
   ],
   "source": [
    "# Values to try\n",
    "n_estimators_values = [40, 60, 75]\n",
    "\n",
    "# Loop over different n_estimators\n",
    "for n_estimators in n_estimators_values:\n",
    "    \n",
    "    # Initialize model with current n_estimators\n",
    "    model = XGBRegressor(\n",
    "        max_depth=3,\n",
    "        n_estimators=n_estimators,\n",
    "        objective='reg:squarederror',\n",
    "        random_state=42,\n",
    "        verbosity=0\n",
    "    )\n",
    "    \n",
    "    # Fit the model\n",
    "    model.fit(X_train, y_train, sample_weight=w_train)\n",
    "\n",
    "    # Predict\n",
    "    train_preds = model.predict(X_train)\n",
    "    val_preds = model.predict(X_val)\n",
    "\n",
    "    # Evaluate\n",
    "    train_rmse = sqrt(mean_squared_error(y_train, train_preds))\n",
    "    val_rmse = sqrt(mean_squared_error(y_val, val_preds))\n",
    "\n",
    "    # Print results\n",
    "    print(f\"n_estimators={n_estimators} | Train RMSE: {train_rmse:.3f}, Val RMSE: {val_rmse:.3f}\")\n"
   ]
  },
  {
   "cell_type": "markdown",
   "id": "823d2c77-228e-4d15-941b-d1fc258c29ac",
   "metadata": {},
   "source": [
    "##### Fine-tuning `n_estimators` around the initial optimum confirmed that 40 trees yields the best validation performance (RMSE: 83.227). Increasing the number of trees beyond this point led to consistent overfitting without improving generalization."
   ]
  },
  {
   "cell_type": "markdown",
   "id": "f4f05154-4211-470f-9907-2ab20b564dc1",
   "metadata": {},
   "source": [
    "## 2.3. Tune learning_rate"
   ]
  },
  {
   "cell_type": "markdown",
   "id": "297923c6-465a-407a-b1e2-c8c0471b07d6",
   "metadata": {},
   "source": [
    "Tuning the learning rate is a critical step as it controls how much each new tree contributes to the overall model - a smaller learning rate means the model learns more gradually, which can improve generalisation but requires more trees to converge, whereas a larger learning_rate speeds up learning, but increases the risk of overfitting. "
   ]
  },
  {
   "cell_type": "code",
   "execution_count": 40,
   "id": "41c32da9-9a16-4830-99d6-93ac260a55d1",
   "metadata": {},
   "outputs": [
    {
     "name": "stdout",
     "output_type": "stream",
     "text": [
      "learning_rate=0.001 | Train RMSE: 94.652, Val RMSE: 95.728\n",
      "learning_rate=0.01 | Train RMSE: 91.702, Val RMSE: 92.961\n",
      "learning_rate=0.05 | Train RMSE: 85.996, Val RMSE: 87.458\n",
      "learning_rate=0.1 | Train RMSE: 83.186, Val RMSE: 84.900\n",
      "learning_rate=0.2 | Train RMSE: 80.686, Val RMSE: 83.078\n",
      "learning_rate=0.25 | Train RMSE: 80.066, Val RMSE: 82.760\n",
      "learning_rate=0.3 | Train RMSE: 79.777, Val RMSE: 82.761\n",
      "learning_rate=0.35 | Train RMSE: 79.658, Val RMSE: 82.819\n"
     ]
    }
   ],
   "source": [
    "learning_rates = [0.001, 0.01, 0.05, 0.1, 0.2, 0.25, 0.3, 0.35]\n",
    "train_rmse_list = []\n",
    "val_rmse_list = []\n",
    "\n",
    "for lr in learning_rates:\n",
    "    model = XGBRegressor(\n",
    "        learning_rate=lr,\n",
    "        n_estimators=40,            # Fixed for now (you can fine-tune later)\n",
    "        max_depth=2,                 # Keep consistent for fair comparison\n",
    "        objective='reg:squarederror',\n",
    "        random_state=42,\n",
    "        verbosity=0\n",
    "    )\n",
    "    \n",
    "    model.fit(X_train, y_train, sample_weight=w_train)\n",
    "    \n",
    "    train_preds = model.predict(X_train)\n",
    "    val_preds = model.predict(X_val)\n",
    "    \n",
    "    train_rmse = sqrt(mean_squared_error(y_train, train_preds))\n",
    "    val_rmse = sqrt(mean_squared_error(y_val, val_preds))\n",
    "    \n",
    "    train_rmse_list.append(train_rmse)\n",
    "    val_rmse_list.append(val_rmse)\n",
    "    \n",
    "    print(f\"learning_rate={lr} | Train RMSE: {train_rmse:.3f}, Val RMSE: {val_rmse:.3f}\")"
   ]
  },
  {
   "cell_type": "code",
   "execution_count": 41,
   "id": "819221d2-0f15-40e0-b9fa-3aa1574b35c9",
   "metadata": {},
   "outputs": [
    {
     "data": {
      "image/png": "[encoded data removed]",
      "text/plain": [
       "<Figure size 800x500 with 1 Axes>"
      ]
     },
     "metadata": {},
     "output_type": "display_data"
    }
   ],
   "source": [
    "# plot the results \n",
    "plt.figure(figsize=(8, 5))\n",
    "plt.plot(learning_rates, train_rmse_list, marker='o', label='Train RMSE')\n",
    "plt.plot(learning_rates, val_rmse_list, marker='o', label='Validation RMSE')\n",
    "plt.xlabel('learning_rate')\n",
    "plt.ylabel('RMSE')\n",
    "plt.title('RMSE vs. learning_rate')\n",
    "plt.legend()\n",
    "plt.grid(True)\n",
    "plt.tight_layout()\n",
    "plt.show()"
   ]
  },
  {
   "cell_type": "markdown",
   "id": "7da26111-e785-48a3-9ff4-efcc88392f5c",
   "metadata": {},
   "source": [
    "As the `learning_rate` increased from 0.001 to 0.25, both training and validation RMSE steadily decreased, indicating improved model performance. The lowest validation RMSE was observed at `learning_rate=0.25`, with minimal gains beyond that and slight signs of overfitting as the rate increased further."
   ]
  },
  {
   "cell_type": "code",
   "execution_count": null,
   "id": "f20a1cc5-2b33-4d06-b45b-bee21d86b7b8",
   "metadata": {},
   "outputs": [],
   "source": []
  },
  {
   "cell_type": "code",
   "execution_count": null,
   "id": "8b9c15ae-8507-4e98-9ab9-b37efec8a76f",
   "metadata": {},
   "outputs": [],
   "source": []
  }
 ],
 "metadata": {
  "kernelspec": {
   "display_name": "Python 3 (ipykernel)",
   "language": "python",
   "name": "python3"
  },
  "language_info": {
   "codemirror_mode": {
    "name": "ipython",
    "version": 3
   },
   "file_extension": ".py",
   "mimetype": "text/x-python",
   "name": "python",
   "nbconvert_exporter": "python",
   "pygments_lexer": "ipython3",
   "version": "3.12.1"
  }
 },
 "nbformat": 4,
 "nbformat_minor": 5
}
