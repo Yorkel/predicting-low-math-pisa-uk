{
 "cells": [
  {
   "cell_type": "code",
   "execution_count": 1,
   "id": "6bf5ab34-48fe-4e41-aa00-8429893697a8",
   "metadata": {},
   "outputs": [],
   "source": [
    "import pandas as pd"
   ]
  },
  {
   "cell_type": "code",
   "execution_count": null,
   "id": "595d1379-36e2-4dad-80cb-261b7d40a644",
   "metadata": {},
   "outputs": [],
   "source": [
    "df_model.to_csv('uk_pisa_model_ready.csv', index=False)"
   ]
  },
  {
   "cell_type": "code",
   "execution_count": null,
   "id": "76e3614c-b904-4978-91a1-58a91ac2f4c2",
   "metadata": {},
   "outputs": [],
   "source": [
    "df = pd.read_csv('uk_pisa_model_ready.csv')\n",
    "X = df.drop(columns=['is_resilient', 'CNTSTUID', 'CNTSCHID'])  # drop target + IDs\n",
    "y = df['is_resilient']\n"
   ]
  }
 ],
 "metadata": {
  "kernelspec": {
   "display_name": "Python 3 (ipykernel)",
   "language": "python",
   "name": "python3"
  },
  "language_info": {
   "codemirror_mode": {
    "name": "ipython",
    "version": 3
   },
   "file_extension": ".py",
   "mimetype": "text/x-python",
   "name": "python",
   "nbconvert_exporter": "python",
   "pygments_lexer": "ipython3",
   "version": "3.12.1"
  }
 },
 "nbformat": 4,
 "nbformat_minor": 5
}
